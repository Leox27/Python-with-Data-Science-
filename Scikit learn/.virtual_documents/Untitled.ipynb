from sklearn.tree import DecisionTreeClassifier

feature = [[150, 0], 
            [120, 0], 
            [100, 1], 
            [80, 1]]


fruits = ["apple", "apple", "orange", "orange"]


clf = DecisionTreeClassifier()
clf = clf.fit(feature, fruits)
clf.predict([[120, 1]])


clf.predict([[90, 0]])


clf.predict([[90, 1]])


clf.predict([[150, 1]])


predict = clf.predict([[150, 0], [120, 1]])
print(f"The 1st fruit is {predict[0]} and 2nd is {predict[1]}")





from sklearn.tree import plot_tree


import matplotlib.pyplot as plt


plt.figure(figsize=(11, 5))


plot_tree(clf, feature_name=["weight", "color"], class_name=["apple", "orange"], filled=True)



