{
 "cells": [
  {
   "cell_type": "code",
   "execution_count": 2,
   "id": "d83fe210-06f2-4489-aa28-8d693c91bcd4",
   "metadata": {},
   "outputs": [],
   "source": [
    "result = 23 + 45 -45 *45"
   ]
  },
  {
   "cell_type": "code",
   "execution_count": 3,
   "id": "cc856258-a94e-44d1-bf67-3983599803a6",
   "metadata": {},
   "outputs": [
    {
     "data": {
      "text/plain": [
       "-1957"
      ]
     },
     "execution_count": 3,
     "metadata": {},
     "output_type": "execute_result"
    }
   ],
   "source": [
    "result"
   ]
  },
  {
   "cell_type": "code",
   "execution_count": 6,
   "id": "ebbf2ede-c830-486d-a0f0-4d5d96131ec3",
   "metadata": {},
   "outputs": [],
   "source": [
    "# Note: Only the exponentiation avaluate right to left "
   ]
  },
  {
   "cell_type": "code",
   "execution_count": 7,
   "id": "03400ae8-d2b5-4e28-9ad1-13a32dad2791",
   "metadata": {},
   "outputs": [],
   "source": [
    "# Andother operators evaluate left to right"
   ]
  },
  {
   "cell_type": "code",
   "execution_count": null,
   "id": "6a7521b4-b9e1-4aea-9399-33a4ca8c1646",
   "metadata": {},
   "outputs": [],
   "source": []
  }
 ],
 "metadata": {
  "kernelspec": {
   "display_name": "Python [conda env:base] *",
   "language": "python",
   "name": "conda-base-py"
  },
  "language_info": {
   "codemirror_mode": {
    "name": "ipython",
    "version": 3
   },
   "file_extension": ".py",
   "mimetype": "text/x-python",
   "name": "python",
   "nbconvert_exporter": "python",
   "pygments_lexer": "ipython3",
   "version": "3.12.7"
  }
 },
 "nbformat": 4,
 "nbformat_minor": 5
}
