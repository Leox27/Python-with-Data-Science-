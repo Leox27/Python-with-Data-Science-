{
 "cells": [
  {
   "cell_type": "code",
   "execution_count": 7,
   "id": "355b38d2-8ca0-44af-8c15-649466715d85",
   "metadata": {},
   "outputs": [],
   "source": [
    "a = 3\n"
   ]
  },
  {
   "cell_type": "code",
   "execution_count": 8,
   "id": "9bc22945-4465-4b4a-8601-890996402948",
   "metadata": {},
   "outputs": [],
   "source": [
    "b = 5"
   ]
  },
  {
   "cell_type": "code",
   "execution_count": 9,
   "id": "2655352a-b14d-4bd5-8976-9611b6dac990",
   "metadata": {},
   "outputs": [
    {
     "data": {
      "text/plain": [
       "8"
      ]
     },
     "execution_count": 9,
     "metadata": {},
     "output_type": "execute_result"
    }
   ],
   "source": [
    "a + b"
   ]
  },
  {
   "cell_type": "raw",
   "id": "58d55218-e47c-42ac-b778-e691d6c4300f",
   "metadata": {},
   "source": [
    "str = \"Mayur\""
   ]
  },
  {
   "cell_type": "code",
   "execution_count": 10,
   "id": "781b7065-e5f1-443f-a268-dac07f946517",
   "metadata": {},
   "outputs": [
    {
     "name": "stdout",
     "output_type": "stream",
     "text": [
      "<class 'str'>\n"
     ]
    }
   ],
   "source": [
    "print(str)"
   ]
  },
  {
   "cell_type": "code",
   "execution_count": 11,
   "id": "b13ab821-6af5-4848-a280-2005dd869d6a",
   "metadata": {},
   "outputs": [],
   "source": [
    "name = \"mayur\"\n",
    "# This will print\"mayur\""
   ]
  },
  {
   "cell_type": "code",
   "execution_count": 12,
   "id": "20950c6e-c5dc-4f65-962c-99a8b396f2ae",
   "metadata": {},
   "outputs": [
    {
     "name": "stdout",
     "output_type": "stream",
     "text": [
      "mayur\n"
     ]
    }
   ],
   "source": [
    "print(name)"
   ]
  },
  {
   "cell_type": "code",
   "execution_count": 15,
   "id": "e4e7e25d-bbe3-41f9-99f0-08cffc17229c",
   "metadata": {},
   "outputs": [],
   "source": [
    "# This is the comment"
   ]
  },
  {
   "cell_type": "code",
   "execution_count": 20,
   "id": "003cb167-7fc2-4500-84cd-885520380f1d",
   "metadata": {},
   "outputs": [
    {
     "name": "stdout",
     "output_type": "stream",
     "text": [
      "<class 'int'>\n"
     ]
    }
   ],
   "source": [
    "print(type(a))"
   ]
  },
  {
   "cell_type": "code",
   "execution_count": 21,
   "id": "fc4bdeaf-ca46-4f42-8b07-46115a8c466c",
   "metadata": {},
   "outputs": [
    {
     "name": "stdout",
     "output_type": "stream",
     "text": [
      "<class 'str'>\n"
     ]
    }
   ],
   "source": [
    "print(type(name))"
   ]
  },
  {
   "cell_type": "code",
   "execution_count": 22,
   "id": "5d252e2c-e27d-49a4-b5a6-c4916a00d4db",
   "metadata": {},
   "outputs": [
    {
     "data": {
      "text/plain": [
       "str"
      ]
     },
     "execution_count": 22,
     "metadata": {},
     "output_type": "execute_result"
    }
   ],
   "source": [
    "type(name)"
   ]
  },
  {
   "cell_type": "code",
   "execution_count": 23,
   "id": "d28f7f79-c480-4770-83ce-8db72da577e1",
   "metadata": {},
   "outputs": [],
   "source": [
    "a  = \"4534\""
   ]
  },
  {
   "cell_type": "code",
   "execution_count": 24,
   "id": "fc8b8981-6633-4912-a6da-ba3f3b3ce993",
   "metadata": {},
   "outputs": [],
   "source": [
    "b = \"45\""
   ]
  },
  {
   "cell_type": "code",
   "execution_count": 26,
   "id": "46b34a82-3ffa-4e54-a1c6-faf5a917854d",
   "metadata": {},
   "outputs": [
    {
     "name": "stdout",
     "output_type": "stream",
     "text": [
      "453445\n"
     ]
    }
   ],
   "source": [
    "print(a+b) # Concatenate (joined)"
   ]
  },
  {
   "cell_type": "code",
   "execution_count": 29,
   "id": "9cef7312-eeed-41df-866f-da15d84ee2dc",
   "metadata": {},
   "outputs": [
    {
     "data": {
      "text/plain": [
       "4579"
      ]
     },
     "execution_count": 29,
     "metadata": {},
     "output_type": "execute_result"
    }
   ],
   "source": [
    "int(a) + int(b) # Typecasting "
   ]
  }
 ],
 "metadata": {
  "kernelspec": {
   "display_name": "Python [conda env:base] *",
   "language": "python",
   "name": "conda-base-py"
  },
  "language_info": {
   "codemirror_mode": {
    "name": "ipython",
    "version": 3
   },
   "file_extension": ".py",
   "mimetype": "text/x-python",
   "name": "python",
   "nbconvert_exporter": "python",
   "pygments_lexer": "ipython3",
   "version": "3.12.7"
  }
 },
 "nbformat": 4,
 "nbformat_minor": 5
}
