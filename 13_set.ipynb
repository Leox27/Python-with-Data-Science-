{
 "cells": [
  {
   "cell_type": "code",
   "execution_count": 1,
   "id": "e3c3fbee-4ae7-435d-b68a-4aff1502d2cc",
   "metadata": {},
   "outputs": [],
   "source": [
    "s = {}"
   ]
  },
  {
   "cell_type": "code",
   "execution_count": 2,
   "id": "e92deea1-6b5d-4194-b816-de2262de5172",
   "metadata": {},
   "outputs": [
    {
     "data": {
      "text/plain": [
       "dict"
      ]
     },
     "execution_count": 2,
     "metadata": {},
     "output_type": "execute_result"
    }
   ],
   "source": [
    "type(s)"
   ]
  },
  {
   "cell_type": "code",
   "execution_count": 3,
   "id": "00a7d92d-728e-4100-9033-45154c7fc1b6",
   "metadata": {},
   "outputs": [],
   "source": [
    "set = set()"
   ]
  },
  {
   "cell_type": "code",
   "execution_count": 4,
   "id": "7f2d08f1-f664-44b5-82c9-08a694b7c37e",
   "metadata": {},
   "outputs": [
    {
     "data": {
      "text/plain": [
       "set"
      ]
     },
     "execution_count": 4,
     "metadata": {},
     "output_type": "execute_result"
    }
   ],
   "source": [
    "type(set)"
   ]
  },
  {
   "cell_type": "code",
   "execution_count": 8,
   "id": "c78c21f7-9ae3-4244-a013-2f3243a9d06f",
   "metadata": {},
   "outputs": [],
   "source": [
    "s = {1, 23, 23, 45, 67, 67} # It doesn't giev repeatation elemements"
   ]
  },
  {
   "cell_type": "code",
   "execution_count": 9,
   "id": "63f843d4-cea7-438c-8ce4-921230d54740",
   "metadata": {},
   "outputs": [
    {
     "data": {
      "text/plain": [
       "{1, 23, 45, 67}"
      ]
     },
     "execution_count": 9,
     "metadata": {},
     "output_type": "execute_result"
    }
   ],
   "source": [
    "s"
   ]
  },
  {
   "cell_type": "code",
   "execution_count": 23,
   "id": "feb3de0d-0cc3-48a1-8504-69038b70d4a4",
   "metadata": {},
   "outputs": [],
   "source": [
    "# Creating set from list"
   ]
  },
  {
   "cell_type": "code",
   "execution_count": 24,
   "id": "e805fa53-68fd-4b53-b548-126a37fbb9a0",
   "metadata": {},
   "outputs": [
    {
     "name": "stdout",
     "output_type": "stream",
     "text": [
      "([1, 2, 3, 3, 4, 4, 5, 6, 7], 9)\n"
     ]
    }
   ],
   "source": [
    "unique_numbers = ([1, 2, 3, 3, 4, 4, 5, 6, 7], 9)\n",
    "print(unique_numbers)"
   ]
  },
  {
   "cell_type": "code",
   "execution_count": 25,
   "id": "aa273440-4f7f-49c8-b3db-8b3ba5f577e1",
   "metadata": {},
   "outputs": [
    {
     "data": {
      "text/plain": [
       "tuple"
      ]
     },
     "execution_count": 25,
     "metadata": {},
     "output_type": "execute_result"
    }
   ],
   "source": [
    "type(unique_numbers)"
   ]
  },
  {
   "cell_type": "code",
   "execution_count": 26,
   "id": "d9812b0a-1cb7-47f6-9c05-69ab19ae735c",
   "metadata": {},
   "outputs": [
    {
     "data": {
      "text/plain": [
       "{1, 23, 45, 67}"
      ]
     },
     "execution_count": 26,
     "metadata": {},
     "output_type": "execute_result"
    }
   ],
   "source": [
    "s"
   ]
  },
  {
   "cell_type": "code",
   "execution_count": 27,
   "id": "1bfb5cf5-e97d-49b8-9dcd-5331b6d8a17c",
   "metadata": {},
   "outputs": [],
   "source": [
    "s.add(34)"
   ]
  },
  {
   "cell_type": "code",
   "execution_count": 28,
   "id": "4e3ff58f-0356-4759-8769-9b75c28bda5c",
   "metadata": {},
   "outputs": [
    {
     "data": {
      "text/plain": [
       "{1, 23, 34, 45, 67}"
      ]
     },
     "execution_count": 28,
     "metadata": {},
     "output_type": "execute_result"
    }
   ],
   "source": [
    "s"
   ]
  },
  {
   "cell_type": "code",
   "execution_count": 30,
   "id": "3ed70d82-bfd3-404f-8ac5-e9af249c3b03",
   "metadata": {},
   "outputs": [],
   "source": [
    "s.update([27, 10, 41, 34])"
   ]
  },
  {
   "cell_type": "code",
   "execution_count": 31,
   "id": "896d8fc3-bfeb-43cb-8950-b4252dc32576",
   "metadata": {},
   "outputs": [
    {
     "data": {
      "text/plain": [
       "{1, 10, 23, 27, 34, 41, 45, 67}"
      ]
     },
     "execution_count": 31,
     "metadata": {},
     "output_type": "execute_result"
    }
   ],
   "source": [
    "s"
   ]
  },
  {
   "cell_type": "code",
   "execution_count": 32,
   "id": "64ae265c-0bf3-4d96-9f10-54a4d4e559a3",
   "metadata": {},
   "outputs": [],
   "source": [
    "# Methods of set\n",
    "# add(x)\n",
    "# update(x)\n",
    "# remove(x)\n",
    "# discard\n",
    "# pop(x)\n",
    "# clear()\n",
    "# copy() -> new_set = my_set.copy(x)\n"
   ]
  },
  {
   "cell_type": "code",
   "execution_count": 33,
   "id": "8797b643-eca3-45a7-b9c1-b599c317a641",
   "metadata": {},
   "outputs": [],
   "source": [
    "# Set operations\n"
   ]
  },
  {
   "cell_type": "code",
   "execution_count": 34,
   "id": "af67ef13-53a9-4c47-b8de-8be59342ca7f",
   "metadata": {},
   "outputs": [],
   "source": [
    "s1 = {1, 2, 3, 4}\n",
    "s2 = {3, 4, 5, 6}"
   ]
  },
  {
   "cell_type": "code",
   "execution_count": 36,
   "id": "bc349936-2ca0-4f89-8fdc-4d545ef53929",
   "metadata": {},
   "outputs": [
    {
     "name": "stdout",
     "output_type": "stream",
     "text": [
      "{1, 2, 3, 4, 5, 6}\n"
     ]
    }
   ],
   "source": [
    "print(s1 | s2) # Union set"
   ]
  },
  {
   "cell_type": "code",
   "execution_count": 38,
   "id": "6bbec3cf-6c1c-4815-a7a1-6661877eb7ae",
   "metadata": {},
   "outputs": [
    {
     "name": "stdout",
     "output_type": "stream",
     "text": [
      "{3, 4}\n"
     ]
    }
   ],
   "source": [
    "print(s1 & s2) # Intersection of set"
   ]
  },
  {
   "cell_type": "code",
   "execution_count": 41,
   "id": "fa92ff84-2255-4842-acde-c907b77ae050",
   "metadata": {},
   "outputs": [
    {
     "name": "stdout",
     "output_type": "stream",
     "text": [
      "{1, 2}\n"
     ]
    }
   ],
   "source": [
    "print(s1 - s2) # Difference s1 to s2"
   ]
  },
  {
   "cell_type": "code",
   "execution_count": 42,
   "id": "bc849d78-725c-454d-8909-223be62b805d",
   "metadata": {},
   "outputs": [
    {
     "name": "stdout",
     "output_type": "stream",
     "text": [
      "{5, 6}\n"
     ]
    }
   ],
   "source": [
    "print(s2 - s1) # Difference s2 to s1"
   ]
  },
  {
   "cell_type": "code",
   "execution_count": 44,
   "id": "18a5f59e-021a-40b8-a736-aded4cb31344",
   "metadata": {},
   "outputs": [
    {
     "name": "stdout",
     "output_type": "stream",
     "text": [
      "{1, 2, 5, 6}\n"
     ]
    }
   ],
   "source": [
    "print(s1 ^ s2) # Symmetric Difference "
   ]
  },
  {
   "cell_type": "code",
   "execution_count": 45,
   "id": "f4bf4e2a-0305-423f-ae05-9033f4f1f3c8",
   "metadata": {},
   "outputs": [
    {
     "data": {
      "text/plain": [
       "{1, 2, 3, 4, 5, 6}"
      ]
     },
     "execution_count": 45,
     "metadata": {},
     "output_type": "execute_result"
    }
   ],
   "source": [
    "s1.union(s2)"
   ]
  },
  {
   "cell_type": "code",
   "execution_count": 47,
   "id": "39e5fd80-3cd6-4215-bfc2-03d12b144248",
   "metadata": {},
   "outputs": [
    {
     "data": {
      "text/plain": [
       "{3, 4}"
      ]
     },
     "execution_count": 47,
     "metadata": {},
     "output_type": "execute_result"
    }
   ],
   "source": [
    "s1.intersection(s2)"
   ]
  },
  {
   "cell_type": "code",
   "execution_count": 48,
   "id": "fa95eb75-af66-4f93-b4bf-ec7dc2c8570d",
   "metadata": {},
   "outputs": [
    {
     "data": {
      "text/plain": [
       "{3, 4}"
      ]
     },
     "execution_count": 48,
     "metadata": {},
     "output_type": "execute_result"
    }
   ],
   "source": [
    "s2.intersection(s1)"
   ]
  },
  {
   "cell_type": "code",
   "execution_count": 51,
   "id": "7f8d52c6-9b0c-4b76-afb9-ddd66a6c6309",
   "metadata": {},
   "outputs": [
    {
     "data": {
      "text/plain": [
       "False"
      ]
     },
     "execution_count": 51,
     "metadata": {},
     "output_type": "execute_result"
    }
   ],
   "source": [
    "s1.issubset(s2) # The all elements of \"s1\" are belong to \"s2\""
   ]
  },
  {
   "cell_type": "code",
   "execution_count": null,
   "id": "e2cd2cfe-a0d3-4ed0-8e7e-753bd14cc21b",
   "metadata": {},
   "outputs": [],
   "source": []
  }
 ],
 "metadata": {
  "kernelspec": {
   "display_name": "Python [conda env:base] *",
   "language": "python",
   "name": "conda-base-py"
  },
  "language_info": {
   "codemirror_mode": {
    "name": "ipython",
    "version": 3
   },
   "file_extension": ".py",
   "mimetype": "text/x-python",
   "name": "python",
   "nbconvert_exporter": "python",
   "pygments_lexer": "ipython3",
   "version": "3.12.7"
  }
 },
 "nbformat": 4,
 "nbformat_minor": 5
}
