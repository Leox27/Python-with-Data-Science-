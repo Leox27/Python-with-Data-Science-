{
 "cells": [
  {
   "cell_type": "code",
   "execution_count": 9,
   "id": "18303fed-16ff-480e-8508-bbd32d3fe624",
   "metadata": {},
   "outputs": [],
   "source": [
    "# Using the f-string method "
   ]
  },
  {
   "cell_type": "code",
   "execution_count": 1,
   "id": "1223c83e-ac54-4da5-a466-34b159771444",
   "metadata": {},
   "outputs": [
    {
     "name": "stdout",
     "output_type": "stream",
     "text": [
      "My name is Mayur and my age is 21\n"
     ]
    }
   ],
   "source": [
    "name = \"Mayur\"\n",
    "age = 21\n",
    "print(f\"My name is {name} and my age is {age}\")"
   ]
  },
  {
   "cell_type": "code",
   "execution_count": 2,
   "id": "2837ec3d-359d-41b5-96a6-a45930fe969b",
   "metadata": {},
   "outputs": [],
   "source": [
    "# Using the format method"
   ]
  },
  {
   "cell_type": "code",
   "execution_count": 8,
   "id": "decda104-07ef-48ab-9b58-243cfbe173cc",
   "metadata": {},
   "outputs": [
    {
     "name": "stdout",
     "output_type": "stream",
     "text": [
      "My name is Vishwas and my age is 22\n"
     ]
    }
   ],
   "source": [
    "name = \"Vishwas\"\n",
    "age = 22\n",
    "print(\"My name is {} and my age is {}\".format(name, age))"
   ]
  },
  {
   "cell_type": "code",
   "execution_count": 10,
   "id": "a7cc9785-36ab-44e6-8d3c-6da4bbf4a0f1",
   "metadata": {},
   "outputs": [],
   "source": [
    "# Formating numbers"
   ]
  },
  {
   "cell_type": "code",
   "execution_count": 12,
   "id": "8d6e71fc-ccde-4498-9afe-f7ab656b06f4",
   "metadata": {},
   "outputs": [
    {
     "name": "stdout",
     "output_type": "stream",
     "text": [
      "Pi is rounded to decimal places to 3.14\n"
     ]
    }
   ],
   "source": [
    "pi = 3.14159\n",
    "print(f\"Pi is rounded to decimal places to {pi:.2f}\")"
   ]
  },
  {
   "cell_type": "code",
   "execution_count": 13,
   "id": "1f207350-a0b2-4eec-a07b-cc0277a19c4e",
   "metadata": {},
   "outputs": [],
   "source": [
    "# Padding and Alignment"
   ]
  },
  {
   "cell_type": "code",
   "execution_count": 16,
   "id": "92a6fa3d-ac09-44fa-872c-5e3d37b9c87d",
   "metadata": {},
   "outputs": [
    {
     "name": "stdout",
     "output_type": "stream",
     "text": [
      "Python    \n",
      "    Python\n",
      "  Python  \n"
     ]
    }
   ],
   "source": [
    "print(f\"{'Python':<10}\") # Left alignment\n",
    "print(f\"{'Python':>10}\") # Right Alignment\n",
    "print(f\"{'Python':^10}\") # Centre Alignment"
   ]
  },
  {
   "cell_type": "code",
   "execution_count": null,
   "id": "17cfd2eb-6eec-48fe-863f-6097337b6cae",
   "metadata": {},
   "outputs": [],
   "source": []
  }
 ],
 "metadata": {
  "kernelspec": {
   "display_name": "Python [conda env:base] *",
   "language": "python",
   "name": "conda-base-py"
  },
  "language_info": {
   "codemirror_mode": {
    "name": "ipython",
    "version": 3
   },
   "file_extension": ".py",
   "mimetype": "text/x-python",
   "name": "python",
   "nbconvert_exporter": "python",
   "pygments_lexer": "ipython3",
   "version": "3.12.7"
  }
 },
 "nbformat": 4,
 "nbformat_minor": 5
}
