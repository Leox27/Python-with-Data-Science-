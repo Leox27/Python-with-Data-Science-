{
 "cells": [
  {
   "cell_type": "code",
   "execution_count": 1,
   "id": "03647b26-fbe4-43a2-93c7-343d4ecf4386",
   "metadata": {},
   "outputs": [],
   "source": [
    "import numpy as np"
   ]
  },
  {
   "cell_type": "code",
   "execution_count": 2,
   "id": "775dd403-a9b2-4b5d-a5f2-41bea88719de",
   "metadata": {},
   "outputs": [
    {
     "data": {
      "text/plain": [
       "array([[1, 2, 3],\n",
       "       [4, 5, 6],\n",
       "       [7, 8, 9]])"
      ]
     },
     "execution_count": 2,
     "metadata": {},
     "output_type": "execute_result"
    }
   ],
   "source": [
    "arr = np.array([[1, 2, 3], [4, 5, 6], [7, 8, 9]])\n",
    "arr"
   ]
  },
  {
   "cell_type": "code",
   "execution_count": 3,
   "id": "3b9092ba-3933-48bf-be8c-83e4d470cd6e",
   "metadata": {},
   "outputs": [
    {
     "data": {
      "text/plain": [
       "dtype('int32')"
      ]
     },
     "execution_count": 3,
     "metadata": {},
     "output_type": "execute_result"
    }
   ],
   "source": [
    "arr.dtype"
   ]
  },
  {
   "cell_type": "code",
   "execution_count": 5,
   "id": "b5d464b9-3540-4aea-8e1d-7ae8c1229005",
   "metadata": {},
   "outputs": [
    {
     "data": {
      "text/plain": [
       "array([[1., 2., 3.],\n",
       "       [4., 5., 6.],\n",
       "       [7., 8., 9.]])"
      ]
     },
     "execution_count": 5,
     "metadata": {},
     "output_type": "execute_result"
    }
   ],
   "source": [
    "arr2 = arr.astype(\"float64\")\n",
    "arr2"
   ]
  },
  {
   "cell_type": "code",
   "execution_count": 9,
   "id": "32b407bd-9e39-4441-84cb-19a605b9ccd5",
   "metadata": {},
   "outputs": [
    {
     "data": {
      "text/plain": [
       "array([[1, 2, 3],\n",
       "       [4, 5, 6],\n",
       "       [7, 8, 9]])"
      ]
     },
     "execution_count": 9,
     "metadata": {},
     "output_type": "execute_result"
    }
   ],
   "source": [
    "arr3 = arr2.astype(np.int32) \n",
    "arr3"
   ]
  },
  {
   "cell_type": "code",
   "execution_count": 10,
   "id": "190bb897-2a81-4a1a-aabb-2a8343d86478",
   "metadata": {},
   "outputs": [
    {
     "data": {
      "text/plain": [
       "array([[1., 2., 3.],\n",
       "       [4., 5., 6.],\n",
       "       [7., 8., 9.]])"
      ]
     },
     "execution_count": 10,
     "metadata": {},
     "output_type": "execute_result"
    }
   ],
   "source": [
    "arr4 = arr3.astype(\"float64\")\n",
    "arr4"
   ]
  },
  {
   "cell_type": "code",
   "execution_count": 13,
   "id": "0e05a4a7-36e3-4d94-9d65-b519f856266e",
   "metadata": {},
   "outputs": [
    {
     "data": {
      "text/plain": [
       "array([[1., 2., 3.],\n",
       "       [4., 5., 6.]])"
      ]
     },
     "execution_count": 13,
     "metadata": {},
     "output_type": "execute_result"
    }
   ],
   "source": [
    "arrf = np.array([[1, 2, 3,], [4, 5, 6]], dtype = \"float64\")\n",
    "arrf"
   ]
  },
  {
   "cell_type": "code",
   "execution_count": 15,
   "id": "a966b585-0ea2-4640-b527-693925cc746f",
   "metadata": {},
   "outputs": [
    {
     "data": {
      "text/plain": [
       "array([[1., 2., 3.],\n",
       "       [4., 5., 6.]])"
      ]
     },
     "execution_count": 15,
     "metadata": {},
     "output_type": "execute_result"
    }
   ],
   "source": [
    "### Downcasting \n",
    "\n",
    "arr_large = np.array([[1, 2, 3,], [4, 5, 6]], dtype = \"float64\")\n",
    "arr_large"
   ]
  },
  {
   "cell_type": "code",
   "execution_count": 16,
   "id": "a32de0fb-400b-4259-87c2-a57db7248255",
   "metadata": {},
   "outputs": [
    {
     "name": "stdout",
     "output_type": "stream",
     "text": [
      "[[1 2 3]\n",
      " [4 5 6]]\n",
      "int32\n"
     ]
    }
   ],
   "source": [
    "arr_small = arr_large.astype(np.int32)\n",
    "print(arr_small)\n",
    "print(arr_small.dtype)"
   ]
  },
  {
   "cell_type": "code",
   "execution_count": 21,
   "id": "514a0e4d-6e44-431d-a514-f77794d5805e",
   "metadata": {},
   "outputs": [
    {
     "name": "stdout",
     "output_type": "stream",
     "text": [
      "48\n",
      "24\n"
     ]
    }
   ],
   "source": [
    "### Why data types are matter kin NUmPy\n",
    "\n",
    "arr_int64 = np.array([[1, 2, 3], [4, 5 ,6]], dtype=np.int64)\n",
    "arr_int32 = np.array([[1, 2, 3], [4, 5 ,6]], dtype=np.int32)\n",
    "\n",
    "print(arr_int64.nbytes) # Less memory size usage\n",
    "print(arr_int32.nbytes) # More memory size usage"
   ]
  },
  {
   "cell_type": "code",
   "execution_count": 22,
   "id": "84e031da-3a08-4bfc-851a-d9a217c98d61",
   "metadata": {},
   "outputs": [
    {
     "name": "stdout",
     "output_type": "stream",
     "text": [
      "['Apple' 'Banana' 'Mango']\n"
     ]
    }
   ],
   "source": [
    "### String in NumPy\n",
    "# Note: Using string in NumPy is not a good idea\n",
    "\n",
    "str = np.array(['Apple', 'Banana', 'Mango'], dtype = 'U10') # Instead of 'U10' also 'str'.\n",
    "print(str)"
   ]
  },
  {
   "cell_type": "code",
   "execution_count": 30,
   "id": "bd10185b-0108-42f7-a451-b7c0163818bf",
   "metadata": {},
   "outputs": [
    {
     "name": "stdout",
     "output_type": "stream",
     "text": [
      "[[1.+2.j]\n",
      " [2.+3.j]]\n"
     ]
    }
   ],
   "source": [
    "### Complex Numbers\n",
    "\n",
    "compl = np.array([[1 + 2j], [2 + 3j]], dtype = 'complex64')\n",
    "print(compl)"
   ]
  },
  {
   "cell_type": "code",
   "execution_count": 33,
   "id": "af413233-23c5-4611-9a04-d9b491c9663e",
   "metadata": {},
   "outputs": [
    {
     "name": "stdout",
     "output_type": "stream",
     "text": [
      "[list([1, 2, 3]) 'mayur' 1]\n"
     ]
    }
   ],
   "source": [
    "### Object data type (Mixed)\n",
    "\n",
    "obj = np.array([[1, 2, 3], 'mayur', 1], dtype = 'object')\n",
    "print(obj)         # it gives list"
   ]
  },
  {
   "cell_type": "code",
   "execution_count": null,
   "id": "106e390f-b971-4cf9-a55c-bb826bd5c72d",
   "metadata": {},
   "outputs": [],
   "source": []
  }
 ],
 "metadata": {
  "kernelspec": {
   "display_name": "Python [conda env:base] *",
   "language": "python",
   "name": "conda-base-py"
  },
  "language_info": {
   "codemirror_mode": {
    "name": "ipython",
    "version": 3
   },
   "file_extension": ".py",
   "mimetype": "text/x-python",
   "name": "python",
   "nbconvert_exporter": "python",
   "pygments_lexer": "ipython3",
   "version": "3.12.7"
  }
 },
 "nbformat": 4,
 "nbformat_minor": 5
}
