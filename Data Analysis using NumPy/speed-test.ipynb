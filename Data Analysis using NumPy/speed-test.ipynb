{
 "cells": [
  {
   "cell_type": "code",
   "execution_count": 34,
   "id": "5c336a8c-503a-4188-b713-a58697475131",
   "metadata": {
    "editable": true,
    "slideshow": {
     "slide_type": ""
    },
    "tags": []
   },
   "outputs": [
    {
     "name": "stdout",
     "output_type": "stream",
     "text": [
      "0.7060768604278564\n"
     ]
    }
   ],
   "source": [
    "# Using Python Lists\n",
    "import numpy as np\n",
    "import time\n",
    "\n",
    "size = 1_000_0000    # we use the \"_\" for better code reading\n",
    "l1 = list(range(size))\n",
    "l2 = list(range(size))\n",
    "\n",
    "start = time.time() # Start time\n",
    "add = (x+y for x, y in zip(l1, l2)) # zipping\n",
    "end = time.time()   # End time\n",
    "\n",
    "print(end - start)  # subtract final time - initial time \n",
    "\n",
    "# The output of the SpeedTeest of List is \"0.7060768604278564\"."
   ]
  },
  {
   "cell_type": "code",
   "execution_count": 32,
   "id": "5512b062-5e51-44eb-aedc-b339762c3fcd",
   "metadata": {
    "scrolled": true
   },
   "outputs": [
    {
     "name": "stdout",
     "output_type": "stream",
     "text": [
      "0.04430651664733887\n"
     ]
    }
   ],
   "source": [
    "import numpy as np\n",
    "import time\n",
    "\n",
    "size = 1_000_0000    # we use the \"_\" for better code reading\n",
    "l1 = np.array(list(range(size)))\n",
    "l2 = np.array(list(range(size)))\n",
    "\n",
    "start = time.time() # Start time\n",
    "add = l1 + l2       # No need to use loop in numpy\n",
    "end = time.time()   # End time\n",
    "\n",
    "print(end - start)  # subtract final time - initial time \n",
    "\n",
    "# The output of the SpeedTeest of NumPy is \"0.04430651664733887\"."
   ]
  },
  {
   "cell_type": "code",
   "execution_count": 41,
   "id": "b945fdcf-1c20-411b-a151-4eabc9bd8ba0",
   "metadata": {
    "editable": true,
    "slideshow": {
     "slide_type": ""
    },
    "tags": []
   },
   "outputs": [
    {
     "data": {
      "text/plain": [
       "array([1, 2, 3, 4])"
      ]
     },
     "execution_count": 41,
     "metadata": {},
     "output_type": "execute_result"
    }
   ],
   "source": [
    "np.array([1, 2, 3, 4])                    # 1D dimensional array"
   ]
  },
  {
   "cell_type": "code",
   "execution_count": 42,
   "id": "7df7c4e8-cbb4-4858-93f1-2cb4f48deaf2",
   "metadata": {},
   "outputs": [
    {
     "data": {
      "text/plain": [
       "array([[1, 2],\n",
       "       [3, 4],\n",
       "       [5, 6]])"
      ]
     },
     "execution_count": 42,
     "metadata": {},
     "output_type": "execute_result"
    }
   ],
   "source": [
    "np.array([[1, 2], [3,4], [5, 6]])         # 2D array"
   ]
  },
  {
   "cell_type": "code",
   "execution_count": 50,
   "id": "b11411dd-e130-4527-960d-6a3979335a67",
   "metadata": {},
   "outputs": [
    {
     "data": {
      "text/plain": [
       "array([[1, 2, 3],\n",
       "       [5, 6, 7],\n",
       "       [7, 8, 9]])"
      ]
     },
     "execution_count": 50,
     "metadata": {},
     "output_type": "execute_result"
    }
   ],
   "source": [
    "arr  = np.array([[1,2, 3], [5, 6, 7], [7,8, 9]]) # 3D array\n",
    "arr"
   ]
  },
  {
   "cell_type": "code",
   "execution_count": 51,
   "id": "dcf93a02-a6e4-4fba-a437-bd24b45cc426",
   "metadata": {},
   "outputs": [
    {
     "data": {
      "text/plain": [
       "numpy.ndarray"
      ]
     },
     "execution_count": 51,
     "metadata": {},
     "output_type": "execute_result"
    }
   ],
   "source": [
    "# Check type\n",
    "type(arr)"
   ]
  },
  {
   "cell_type": "code",
   "execution_count": 52,
   "id": "459106c2-7121-471c-93ab-c9669a1af4af",
   "metadata": {},
   "outputs": [
    {
     "data": {
      "text/plain": [
       "(3, 3)"
      ]
     },
     "execution_count": 52,
     "metadata": {},
     "output_type": "execute_result"
    }
   ],
   "source": [
    "arr.shape # Output: (3, 3) --> 3-rows & 3-columns"
   ]
  },
  {
   "cell_type": "code",
   "execution_count": 66,
   "id": "e0b647da-c6ab-4f1e-b3e1-e42b7fc38f8f",
   "metadata": {
    "editable": true,
    "slideshow": {
     "slide_type": ""
    },
    "tags": []
   },
   "outputs": [
    {
     "name": "stdout",
     "output_type": "stream",
     "text": [
      "Python list size: 36056 bytes\n",
      "NumPy array size: 4000 bytes\n"
     ]
    }
   ],
   "source": [
    "# Memory Efficiency\n",
    "\n",
    "import sys      # For list\n",
    "\n",
    "list_data = list(range(1000))\n",
    "numpy_data = np.array(list_data)\n",
    "\n",
    "print(\"Python list size:\",sys.getsizeof(list_data) + sum(sys.getsizeof(item) for item in list_data), \"bytes\")\n",
    "\n",
    "print(\"NumPy array size:\", numpy_data.nbytes, \"bytes\") \n",
    "\n",
    "# total_size = sys.getsizeof(list_data) + sum(sys.getsizeof(item) for item in list_data)\n"
   ]
  },
  {
   "cell_type": "code",
   "execution_count": 65,
   "id": "2c07bed3-196d-4b92-bba2-61f13ac82103",
   "metadata": {
    "editable": true,
    "slideshow": {
     "slide_type": ""
    },
    "tags": []
   },
   "outputs": [
    {
     "name": "stdout",
     "output_type": "stream",
     "text": [
      "Time taken is: 0.0 sec\n",
      "[1, 4, 9, 16, 25, 36, 49, 64, 81, 100]\n",
      "Time taken is: -0.0014743804931640625 sec\n",
      "[  1   4   9  16  25  36  49  64  81 100]\n"
     ]
    }
   ],
   "source": [
    "# Vecorization - No more loops\n",
    "\n",
    "# Python list (loop-based)\n",
    "list1 = [1, 2, 3, 4, 5, 6, 7, 8, 9, 10]\n",
    "\n",
    "start = time.time()\n",
    "list_squares = [x ** 2 for x in list1]\n",
    "end = time.time()\n",
    "print(f\"Time taken is: {start - end} sec\")\n",
    "\n",
    "print(list_squares)\n",
    "\n",
    "# NumPy (vectorized)\n",
    "arr1 = np.array([1, 2, 3, 4, 5, 6, 7, 8, 9, 10])\n",
    "\n",
    "start = time.time()\n",
    "numpy_squares = arr1 ** 2\n",
    "end = time.time()\n",
    "print(f\"Time taken is: {start - end} sec\")\n",
    "\n",
    "print(numpy_squares)"
   ]
  },
  {
   "cell_type": "code",
   "execution_count": null,
   "id": "3400f631-4ac8-4eed-afac-866bfbb1cc67",
   "metadata": {},
   "outputs": [],
   "source": []
  },
  {
   "cell_type": "code",
   "execution_count": 54,
   "id": "34bb5567-186a-4983-a947-de0cd01d0caf",
   "metadata": {
    "editable": true,
    "slideshow": {
     "slide_type": ""
    },
    "tags": []
   },
   "outputs": [
    {
     "name": "stdout",
     "output_type": "stream",
     "text": [
      "[(1, 5), (2, 6), (3, 7), (4, 8)]\n"
     ]
    }
   ],
   "source": [
    "l1 = [1, 2, 3, 4]\n",
    "l2 = [5, 6, 7, 8]\n",
    "\n",
    "print(list(zip(l1, l2))) # \"zip()\" used to zip the list and execute output as tuple"
   ]
  },
  {
   "cell_type": "code",
   "execution_count": null,
   "id": "541bab75-3f7f-4845-bf6b-66c6c7debccd",
   "metadata": {},
   "outputs": [],
   "source": []
  }
 ],
 "metadata": {
  "kernelspec": {
   "display_name": "Python [conda env:base] *",
   "language": "python",
   "name": "conda-base-py"
  },
  "language_info": {
   "codemirror_mode": {
    "name": "ipython",
    "version": 3
   },
   "file_extension": ".py",
   "mimetype": "text/x-python",
   "name": "python",
   "nbconvert_exporter": "python",
   "pygments_lexer": "ipython3",
   "version": "3.12.7"
  }
 },
 "nbformat": 4,
 "nbformat_minor": 5
}
