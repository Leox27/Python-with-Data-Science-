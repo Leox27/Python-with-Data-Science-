{
 "cells": [
  {
   "cell_type": "code",
   "execution_count": 5,
   "id": "999c08ed-d558-4a97-9414-2ef450de08f0",
   "metadata": {
    "editable": true,
    "slideshow": {
     "slide_type": ""
    },
    "tags": []
   },
   "outputs": [],
   "source": [
    "import numpy as np\n",
    "\n",
    "### Exercises for Practice\n",
    "    # Create a 3×3 array filled with random numbers and print its shape.\n",
    "    # Convert an array of floats [1.1, 2.2, 3.3] into integers.\n",
    "    # Use fancy indexing to extract even numbers from [1, 2, 3, 4, 5, 6].\n",
    "    # Reshape a 1D array of size 9 into a 3×3 matrix.\n",
    "    # Use boolean masking to filter numbers greater than 50 in an array."
   ]
  },
  {
   "cell_type": "code",
   "execution_count": 7,
   "id": "67c2140b-065f-4ff9-91f3-be3a164c1ae8",
   "metadata": {},
   "outputs": [
    {
     "data": {
      "text/plain": [
       "array([[1, 2, 3],\n",
       "       [4, 5, 6],\n",
       "       [7, 8, 9]])"
      ]
     },
     "execution_count": 7,
     "metadata": {},
     "output_type": "execute_result"
    }
   ],
   "source": [
    " # Create a 3×3 array filled with random numbers and print its shape.\n",
    "\n",
    "arr = np.array([[1, 2, 3], [4, 5, 6], [7, 8, 9]])\n",
    "arr\n"
   ]
  },
  {
   "cell_type": "code",
   "execution_count": 8,
   "id": "f4edbf4e-5ff8-4911-b5e6-1365d3967561",
   "metadata": {},
   "outputs": [
    {
     "data": {
      "text/plain": [
       "(3, 3)"
      ]
     },
     "execution_count": 8,
     "metadata": {},
     "output_type": "execute_result"
    }
   ],
   "source": [
    "arr.shape"
   ]
  },
  {
   "cell_type": "code",
   "execution_count": 9,
   "id": "9d5ee186-3c3f-4ca5-95a0-beb52ff76381",
   "metadata": {},
   "outputs": [
    {
     "data": {
      "text/plain": [
       "array([1.1, 2.2, 3.3])"
      ]
     },
     "execution_count": 9,
     "metadata": {},
     "output_type": "execute_result"
    }
   ],
   "source": [
    "# Convert an array of floats [1.1, 2.2, 3.3] into integers.\n",
    "\n",
    "arr2 = np.array([1.1, 2.2, 3.3])\n",
    "arr2"
   ]
  },
  {
   "cell_type": "code",
   "execution_count": 13,
   "id": "f2cbd386-7cec-4fa9-871a-d7105e445295",
   "metadata": {
    "editable": true,
    "slideshow": {
     "slide_type": ""
    },
    "tags": []
   },
   "outputs": [
    {
     "data": {
      "text/plain": [
       "array([1, 2, 3])"
      ]
     },
     "execution_count": 13,
     "metadata": {},
     "output_type": "execute_result"
    }
   ],
   "source": [
    "into_int = arr2.astype(np.int32)\n",
    "into_int"
   ]
  },
  {
   "cell_type": "code",
   "execution_count": 22,
   "id": "833e4ea6-320c-43df-bc4d-60bbe5c24d07",
   "metadata": {
    "editable": true,
    "slideshow": {
     "slide_type": ""
    },
    "tags": []
   },
   "outputs": [
    {
     "name": "stdout",
     "output_type": "stream",
     "text": [
      "[[2 4 6]]\n"
     ]
    }
   ],
   "source": [
    "# Use fancy indexing to extract even numbers from [1, 2, 3, 4, 5, 6].\n",
    "\n",
    "arr3 = np.array([1, 2, 3, 4, 5, 6])\n",
    "idx = [[1, 3, 5]]\n",
    "print(arr3[idx])"
   ]
  },
  {
   "cell_type": "code",
   "execution_count": 23,
   "id": "b9a006b1-c99c-44ed-96a3-70246d73cbd9",
   "metadata": {},
   "outputs": [
    {
     "data": {
      "text/plain": [
       "1"
      ]
     },
     "execution_count": 23,
     "metadata": {},
     "output_type": "execute_result"
    }
   ],
   "source": [
    "# Reshape a 1D array of size 9 into a 3×3 matrix.\n",
    "\n",
    "arr4 = np.array([1, 2, 3, 4, 5, 6, 7, 8, 9])\n",
    "arr4.ndim"
   ]
  },
  {
   "cell_type": "code",
   "execution_count": 25,
   "id": "baeff2ac-96ae-42b2-a631-6d1fbdf3d1c4",
   "metadata": {
    "editable": true,
    "slideshow": {
     "slide_type": ""
    },
    "tags": []
   },
   "outputs": [
    {
     "data": {
      "text/plain": [
       "array([[1, 2, 3],\n",
       "       [4, 5, 6],\n",
       "       [7, 8, 9]])"
      ]
     },
     "execution_count": 25,
     "metadata": {},
     "output_type": "execute_result"
    }
   ],
   "source": [
    "reshaped = arr4.reshape(3, 3)\n",
    "reshaped"
   ]
  },
  {
   "cell_type": "code",
   "execution_count": null,
   "id": "abd1739c-1c0b-4a4a-ab27-72cb4511fc97",
   "metadata": {},
   "outputs": [],
   "source": [
    "# Use boolean masking to filter numbers greater than 50 in an array.\n",
    "\n"
   ]
  }
 ],
 "metadata": {
  "kernelspec": {
   "display_name": "Python [conda env:base] *",
   "language": "python",
   "name": "conda-base-py"
  },
  "language_info": {
   "codemirror_mode": {
    "name": "ipython",
    "version": 3
   },
   "file_extension": ".py",
   "mimetype": "text/x-python",
   "name": "python",
   "nbconvert_exporter": "python",
   "pygments_lexer": "ipython3",
   "version": "3.12.7"
  }
 },
 "nbformat": 4,
 "nbformat_minor": 5
}
