{
 "cells": [
  {
   "cell_type": "code",
   "execution_count": 1,
   "id": "59f1fbb4-607b-4e70-ac9d-5f51edca4642",
   "metadata": {},
   "outputs": [],
   "source": [
    "import numpy as np"
   ]
  },
  {
   "cell_type": "code",
   "execution_count": 23,
   "id": "b84c192e-95fc-4dce-9eb7-231b8dee19af",
   "metadata": {},
   "outputs": [],
   "source": [
    "arr = np.array([1, 2, 3, 4, 5])\n",
    "\n",
    "arr1 = np.array([1, 2, 3])\n",
    "arr2 = np.array([4, 5, 6])"
   ]
  },
  {
   "cell_type": "code",
   "execution_count": 6,
   "id": "8de662a8-90d8-462c-a4ea-8054f647fe86",
   "metadata": {},
   "outputs": [
    {
     "data": {
      "text/plain": [
       "3.0"
      ]
     },
     "execution_count": 6,
     "metadata": {},
     "output_type": "execute_result"
    }
   ],
   "source": [
    "#1. Mean\n",
    "np.mean(arr)"
   ]
  },
  {
   "cell_type": "code",
   "execution_count": 7,
   "id": "1a1ad8dd-fc8c-4681-8690-aa82ae8b8710",
   "metadata": {},
   "outputs": [
    {
     "data": {
      "text/plain": [
       "1"
      ]
     },
     "execution_count": 7,
     "metadata": {},
     "output_type": "execute_result"
    }
   ],
   "source": [
    "#2. min\n",
    "np.min(arr)"
   ]
  },
  {
   "cell_type": "code",
   "execution_count": 8,
   "id": "1a726391-9f60-438e-8815-d1dfb0d9a0e5",
   "metadata": {},
   "outputs": [
    {
     "data": {
      "text/plain": [
       "5"
      ]
     },
     "execution_count": 8,
     "metadata": {},
     "output_type": "execute_result"
    }
   ],
   "source": [
    "#3. max\n",
    "np.max(arr)"
   ]
  },
  {
   "cell_type": "code",
   "execution_count": 9,
   "id": "ad07c8b6-d42c-4947-ad17-a27487892694",
   "metadata": {},
   "outputs": [
    {
     "data": {
      "text/plain": [
       "2.0"
      ]
     },
     "execution_count": 9,
     "metadata": {},
     "output_type": "execute_result"
    }
   ],
   "source": [
    "#4. variance\n",
    "np.var(arr)"
   ]
  },
  {
   "cell_type": "code",
   "execution_count": 10,
   "id": "4cee2246-8648-4c24-9ff1-9cc60e0aab54",
   "metadata": {},
   "outputs": [
    {
     "data": {
      "text/plain": [
       "1.4142135623730951"
      ]
     },
     "execution_count": 10,
     "metadata": {},
     "output_type": "execute_result"
    }
   ],
   "source": [
    "#5. Standardization\n",
    "np.std(arr)"
   ]
  },
  {
   "cell_type": "code",
   "execution_count": 11,
   "id": "64ade339-b362-4d64-b5ed-7c6ff11b42f2",
   "metadata": {},
   "outputs": [
    {
     "data": {
      "text/plain": [
       "15"
      ]
     },
     "execution_count": 11,
     "metadata": {},
     "output_type": "execute_result"
    }
   ],
   "source": [
    "#6. Sum\n",
    "np.sum(arr)"
   ]
  },
  {
   "cell_type": "code",
   "execution_count": 12,
   "id": "1df428e6-7f6f-4f11-86bf-ac83a56739df",
   "metadata": {},
   "outputs": [
    {
     "data": {
      "text/plain": [
       "120"
      ]
     },
     "execution_count": 12,
     "metadata": {},
     "output_type": "execute_result"
    }
   ],
   "source": [
    "#7. Product(mul)\n",
    "np.prod(arr)"
   ]
  },
  {
   "cell_type": "code",
   "execution_count": 19,
   "id": "c285b4ee-3d7c-4de8-b383-6013cee2433b",
   "metadata": {},
   "outputs": [
    {
     "data": {
      "text/plain": [
       "3.0"
      ]
     },
     "execution_count": 19,
     "metadata": {},
     "output_type": "execute_result"
    }
   ],
   "source": [
    "#8. Median\n",
    "np.median(arr)"
   ]
  },
  {
   "cell_type": "code",
   "execution_count": 15,
   "id": "e5bcf341-e12b-4624-99f2-bb89e566f690",
   "metadata": {},
   "outputs": [
    {
     "data": {
      "text/plain": [
       "2.08"
      ]
     },
     "execution_count": 15,
     "metadata": {},
     "output_type": "execute_result"
    }
   ],
   "source": [
    "#9. Percentile (%)\n",
    "np.percentile(arr, 27) # 27 is percentile"
   ]
  },
  {
   "cell_type": "code",
   "execution_count": 16,
   "id": "d0fdf7f3-8b34-4ee0-8624-72662e4478a4",
   "metadata": {},
   "outputs": [
    {
     "data": {
      "text/plain": [
       "0"
      ]
     },
     "execution_count": 16,
     "metadata": {},
     "output_type": "execute_result"
    }
   ],
   "source": [
    "#10. Index of minimum value in array\n",
    "np.argmin(arr) # It prints index"
   ]
  },
  {
   "cell_type": "code",
   "execution_count": 17,
   "id": "a1f0ffe2-9de4-45fe-a44d-45d3922a79ba",
   "metadata": {},
   "outputs": [
    {
     "data": {
      "text/plain": [
       "4"
      ]
     },
     "execution_count": 17,
     "metadata": {},
     "output_type": "execute_result"
    }
   ],
   "source": [
    "#11. Index of maximum valur=e in array\n",
    "np.argmax(arr) # It prints index"
   ]
  },
  {
   "cell_type": "code",
   "execution_count": 24,
   "id": "62c65046-59ce-4305-a381-39a393021fa2",
   "metadata": {},
   "outputs": [
    {
     "data": {
      "text/plain": [
       "array([[1., 1.],\n",
       "       [1., 1.]])"
      ]
     },
     "execution_count": 24,
     "metadata": {},
     "output_type": "execute_result"
    }
   ],
   "source": [
    "#12. Correlation-Co-efficient\n",
    "np.corrcoef(arr1, arr2)"
   ]
  },
  {
   "cell_type": "code",
   "execution_count": 26,
   "id": "f50649af-877d-4e0a-864b-6a23fa4c7c76",
   "metadata": {},
   "outputs": [
    {
     "data": {
      "text/plain": [
       "array([1, 2, 3, 4, 5])"
      ]
     },
     "execution_count": 26,
     "metadata": {},
     "output_type": "execute_result"
    }
   ],
   "source": [
    "#13. Unique element of an array\n",
    "np.unique(arr) # It removes the duplicates elements in an array"
   ]
  },
  {
   "cell_type": "code",
   "execution_count": 30,
   "id": "98160f40-0ab5-4e59-85c4-a4d1a6394835",
   "metadata": {},
   "outputs": [
    {
     "data": {
      "text/plain": [
       "array([1, 1, 1, 1])"
      ]
     },
     "execution_count": 30,
     "metadata": {},
     "output_type": "execute_result"
    }
   ],
   "source": [
    "#14 Compute the n-th differences of an array.\n",
    "np.diff(arr)"
   ]
  },
  {
   "cell_type": "code",
   "execution_count": 37,
   "id": "c7874573-67a5-4b8e-b370-28246cebc3e4",
   "metadata": {},
   "outputs": [
    {
     "data": {
      "text/plain": [
       "array([ 1,  3,  6, 10, 15])"
      ]
     },
     "execution_count": 37,
     "metadata": {},
     "output_type": "execute_result"
    }
   ],
   "source": [
    "#15. Compute the cumulative sum of an array.\n",
    "np.cumsum(arr) # Adds elements one by one forward"
   ]
  },
  {
   "cell_type": "code",
   "execution_count": 38,
   "id": "eb98f0eb-4362-40e9-bb0f-dd8a6e70ddf6",
   "metadata": {},
   "outputs": [
    {
     "data": {
      "text/plain": [
       "array([0. , 2.5, 5. ])"
      ]
     },
     "execution_count": 38,
     "metadata": {},
     "output_type": "execute_result"
    }
   ],
   "source": [
    "#16. reate an array with evenly spaced numbers over a specified interval.\n",
    "np.linspace(0, 5, 3)"
   ]
  },
  {
   "cell_type": "code",
   "execution_count": 39,
   "id": "494db8dd-6fdc-4e68-a75c-3e2334b640be",
   "metadata": {},
   "outputs": [
    {
     "data": {
      "text/plain": [
       "array([0.        , 0.69314718, 1.09861229, 1.38629436, 1.60943791])"
      ]
     },
     "execution_count": 39,
     "metadata": {},
     "output_type": "execute_result"
    }
   ],
   "source": [
    "#17. Compute the natural logarithm of an array.\n",
    "np.log(arr)"
   ]
  },
  {
   "cell_type": "code",
   "execution_count": 40,
   "id": "082de51c-e750-4fda-8b5f-520296f66fd6",
   "metadata": {},
   "outputs": [
    {
     "data": {
      "text/plain": [
       "array([  2.71828183,   7.3890561 ,  20.08553692,  54.59815003,\n",
       "       148.4131591 ])"
      ]
     },
     "execution_count": 40,
     "metadata": {},
     "output_type": "execute_result"
    }
   ],
   "source": [
    "#18. Compute the exponential of an array.\n",
    "np.exp(arr)"
   ]
  },
  {
   "cell_type": "code",
   "execution_count": 41,
   "id": "dfe548ad-5693-4d36-96e6-a5a01ae225d3",
   "metadata": {},
   "outputs": [],
   "source": [
    "###########################################################################################################"
   ]
  },
  {
   "cell_type": "code",
   "execution_count": null,
   "id": "5b087ffc-f89f-40ca-b3af-5931e80b59b9",
   "metadata": {},
   "outputs": [],
   "source": []
  }
 ],
 "metadata": {
  "kernelspec": {
   "display_name": "Python [conda env:base] *",
   "language": "python",
   "name": "conda-base-py"
  },
  "language_info": {
   "codemirror_mode": {
    "name": "ipython",
    "version": 3
   },
   "file_extension": ".py",
   "mimetype": "text/x-python",
   "name": "python",
   "nbconvert_exporter": "python",
   "pygments_lexer": "ipython3",
   "version": "3.12.7"
  }
 },
 "nbformat": 4,
 "nbformat_minor": 5
}
