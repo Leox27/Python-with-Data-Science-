{
 "cells": [
  {
   "cell_type": "code",
   "execution_count": 3,
   "id": "a9091f5e-9a9e-4d54-852e-d9774502d02f",
   "metadata": {
    "editable": true,
    "slideshow": {
     "slide_type": ""
    },
    "tags": []
   },
   "outputs": [],
   "source": [
    "import numpy as np"
   ]
  },
  {
   "cell_type": "code",
   "execution_count": 4,
   "id": "a24d2e3f-e54d-4680-8cd8-c11539a23958",
   "metadata": {},
   "outputs": [
    {
     "name": "stdout",
     "output_type": "stream",
     "text": [
      "Requirement already satisfied: numpy in c:\\users\\asus\\anaconda3\\lib\\site-packages (1.26.4)\n"
     ]
    }
   ],
   "source": [
    "!pip install numpy           # installing command NumPy "
   ]
  },
  {
   "cell_type": "code",
   "execution_count": 38,
   "id": "07ad0413-9d8b-41ea-8ac1-7fb423da8326",
   "metadata": {},
   "outputs": [
    {
     "data": {
      "text/plain": [
       "array([1, 2, 3])"
      ]
     },
     "execution_count": 38,
     "metadata": {},
     "output_type": "execute_result"
    }
   ],
   "source": [
    "### Types of Arrays\n",
    "\n",
    "np.array([1, 2, 3])          # normal NumPy Array"
   ]
  },
  {
   "cell_type": "code",
   "execution_count": 39,
   "id": "0aa95eaf-5136-4365-a96f-4e1fa07b3466",
   "metadata": {},
   "outputs": [
    {
     "data": {
      "text/plain": [
       "array([[0., 0., 0.],\n",
       "       [0., 0., 0.]])"
      ]
     },
     "execution_count": 39,
     "metadata": {},
     "output_type": "execute_result"
    }
   ],
   "source": [
    "np.zeros((2, 3))              # Zero's array\n"
   ]
  },
  {
   "cell_type": "code",
   "execution_count": 40,
   "id": "08595210-b512-4b46-b1b1-dcb4dd3bc495",
   "metadata": {},
   "outputs": [
    {
     "data": {
      "text/plain": [
       "array([[[1., 1., 1., 1.],\n",
       "        [1., 1., 1., 1.],\n",
       "        [1., 1., 1., 1.]]])"
      ]
     },
     "execution_count": 40,
     "metadata": {},
     "output_type": "execute_result"
    }
   ],
   "source": [
    "np.ones((1, 3, 4))            # Ones's Array"
   ]
  },
  {
   "cell_type": "code",
   "execution_count": 41,
   "id": "0cb3b53e-8a9d-48b7-8816-964b14010662",
   "metadata": {},
   "outputs": [
    {
     "data": {
      "text/plain": [
       "array([[4, 4, 4, 4],\n",
       "       [4, 4, 4, 4],\n",
       "       [4, 4, 4, 4]])"
      ]
     },
     "execution_count": 41,
     "metadata": {},
     "output_type": "execute_result"
    }
   ],
   "source": [
    "np.full((3, 4), 4)            # Full Array (for perticular num)"
   ]
  },
  {
   "cell_type": "code",
   "execution_count": 42,
   "id": "daa3bd33-93fe-4321-b348-6f2aa3bf2c61",
   "metadata": {},
   "outputs": [
    {
     "data": {
      "text/plain": [
       "array([[1., 0., 0., 0., 0., 0., 0.],\n",
       "       [0., 1., 0., 0., 0., 0., 0.],\n",
       "       [0., 0., 1., 0., 0., 0., 0.],\n",
       "       [0., 0., 0., 1., 0., 0., 0.],\n",
       "       [0., 0., 0., 0., 1., 0., 0.],\n",
       "       [0., 0., 0., 0., 0., 1., 0.],\n",
       "       [0., 0., 0., 0., 0., 0., 1.]])"
      ]
     },
     "execution_count": 42,
     "metadata": {},
     "output_type": "execute_result"
    }
   ],
   "source": [
    "np.eye(7)                     # Eye Array (like Identical matrix)"
   ]
  },
  {
   "cell_type": "code",
   "execution_count": 43,
   "id": "e0722acc-b58d-41d8-bd7f-dbc1b341471a",
   "metadata": {},
   "outputs": [
    {
     "data": {
      "text/plain": [
       "array([ 0,  7, 14, 21, 28, 35, 42, 49, 56, 63, 70, 77, 84, 91, 98])"
      ]
     },
     "execution_count": 43,
     "metadata": {},
     "output_type": "execute_result"
    }
   ],
   "source": [
    "np.arange(0, 100, 7) # A-range Array (start from 1st element, middle element is limit, end element distance)"
   ]
  },
  {
   "cell_type": "code",
   "execution_count": 44,
   "id": "a1c88b4c-5f80-4ebb-bd9e-bf20144e0b28",
   "metadata": {},
   "outputs": [
    {
     "data": {
      "text/plain": [
       "array([ 0.,  9., 18., 27.])"
      ]
     },
     "execution_count": 44,
     "metadata": {},
     "output_type": "execute_result"
    }
   ],
   "source": [
    "np.linspace(0, 27, 4)  # Lin-space Array (start from 1st element, middle element is limit, end element is no. of element being executed)"
   ]
  },
  {
   "cell_type": "code",
   "execution_count": 50,
   "id": "749482c2-4d65-481a-abd2-aa39fd658fbc",
   "metadata": {},
   "outputs": [
    {
     "name": "stdout",
     "output_type": "stream",
     "text": [
      "[[ 1  2  3]\n",
      " [ 4  5  6]\n",
      " [ 7  8  9]\n",
      " [10 11 12]]\n"
     ]
    }
   ],
   "source": [
    "### NumPy Array properties\n",
    "\n",
    "arr = np.array([[1, 2, 3], [4, 5, 6], [7, 8, 9], [10, 11, 12]])\n",
    "print(arr)"
   ]
  },
  {
   "cell_type": "code",
   "execution_count": 51,
   "id": "33f10b4f-ca52-439e-96a1-5c6d1286ddc6",
   "metadata": {},
   "outputs": [
    {
     "data": {
      "text/plain": [
       "array([[0., 0., 0.],\n",
       "       [0., 0., 0.],\n",
       "       [0., 0., 0.]])"
      ]
     },
     "execution_count": 51,
     "metadata": {},
     "output_type": "execute_result"
    }
   ],
   "source": [
    "np.zeros((3, 3))    # Array of Zero's"
   ]
  },
  {
   "cell_type": "code",
   "execution_count": 53,
   "id": "5f914fb9-b4b6-4158-91d8-2c98bb2201aa",
   "metadata": {},
   "outputs": [
    {
     "data": {
      "text/plain": [
       "array([[1., 1., 1., 1.],\n",
       "       [1., 1., 1., 1.],\n",
       "       [1., 1., 1., 1.]])"
      ]
     },
     "execution_count": 53,
     "metadata": {},
     "output_type": "execute_result"
    }
   ],
   "source": [
    "np.ones((3, 4))     # Array of One's"
   ]
  },
  {
   "cell_type": "code",
   "execution_count": 55,
   "id": "37df0839-9f09-4fb7-89e1-43d1c98ed1b6",
   "metadata": {},
   "outputs": [
    {
     "data": {
      "text/plain": [
       "array([[7, 7, 7, 7],\n",
       "       [7, 7, 7, 7]])"
      ]
     },
     "execution_count": 55,
     "metadata": {},
     "output_type": "execute_result"
    }
   ],
   "source": [
    "np.full((2, 4), 7)  # Array filled with 7"
   ]
  },
  {
   "cell_type": "code",
   "execution_count": 56,
   "id": "f0166daa-ccc9-4ee5-9884-618fc8ca64cd",
   "metadata": {},
   "outputs": [
    {
     "data": {
      "text/plain": [
       "array([[1., 0., 0., 0., 0., 0., 0.],\n",
       "       [0., 1., 0., 0., 0., 0., 0.],\n",
       "       [0., 0., 1., 0., 0., 0., 0.],\n",
       "       [0., 0., 0., 1., 0., 0., 0.],\n",
       "       [0., 0., 0., 0., 1., 0., 0.],\n",
       "       [0., 0., 0., 0., 0., 1., 0.],\n",
       "       [0., 0., 0., 0., 0., 0., 1.]])"
      ]
     },
     "execution_count": 56,
     "metadata": {},
     "output_type": "execute_result"
    }
   ],
   "source": [
    "np.eye(7)           # Identity matrix"
   ]
  },
  {
   "cell_type": "code",
   "execution_count": 59,
   "id": "885c963c-fa94-4170-969f-5bd934db08c9",
   "metadata": {},
   "outputs": [
    {
     "data": {
      "text/plain": [
       "array([ 0,  7, 14, 21, 28, 35, 42, 49, 56, 63, 70])"
      ]
     },
     "execution_count": 59,
     "metadata": {},
     "output_type": "execute_result"
    }
   ],
   "source": [
    "np.arange(0, 71, 7) # A-range Array (like range)"
   ]
  },
  {
   "cell_type": "code",
   "execution_count": 65,
   "id": "2d3f6bf3-392d-4eda-a18e-5262eb958d8c",
   "metadata": {},
   "outputs": [
    {
     "data": {
      "text/plain": [
       "array([  1.,  12.,  23.,  34.,  45.,  56.,  67.,  78.,  89., 100.])"
      ]
     },
     "execution_count": 65,
     "metadata": {},
     "output_type": "execute_result"
    }
   ],
   "source": [
    "np.linspace(1, 100, 10) # [0. 0.25 0.5 0.75 1.] (evenly spaced)"
   ]
  },
  {
   "cell_type": "code",
   "execution_count": 102,
   "id": "5b0af7f9-3bca-4c99-aced-c34293dd2ca4",
   "metadata": {
    "editable": true,
    "slideshow": {
     "slide_type": ""
    },
    "tags": []
   },
   "outputs": [
    {
     "data": {
      "text/plain": [
       "array([[ 1,  2,  3],\n",
       "       [ 4,  5,  6],\n",
       "       [ 7,  8,  9],\n",
       "       [10, 11, 12]])"
      ]
     },
     "execution_count": 102,
     "metadata": {},
     "output_type": "execute_result"
    }
   ],
   "source": [
    "### Check Array properties\n",
    "\n",
    "arr = np.array([[1, 2, 3], [4, 5, 6], [7, 8, 9], [10, 11,12]])\n",
    "arr\n"
   ]
  },
  {
   "cell_type": "code",
   "execution_count": 103,
   "id": "55ca5ff4-b193-40cc-a944-926c0a38c05b",
   "metadata": {},
   "outputs": [
    {
     "data": {
      "text/plain": [
       "(4, 3)"
      ]
     },
     "execution_count": 103,
     "metadata": {},
     "output_type": "execute_result"
    }
   ],
   "source": [
    "arr.shape # Shape of Array"
   ]
  },
  {
   "cell_type": "code",
   "execution_count": 104,
   "id": "4399bac1-898d-4eec-bf2b-9a5e4cc5383c",
   "metadata": {},
   "outputs": [
    {
     "data": {
      "text/plain": [
       "12"
      ]
     },
     "execution_count": 104,
     "metadata": {},
     "output_type": "execute_result"
    }
   ],
   "source": [
    "arr.size # Size of Array"
   ]
  },
  {
   "cell_type": "code",
   "execution_count": 105,
   "id": "8dd17610-2b6c-4587-a529-7b920b33cb91",
   "metadata": {},
   "outputs": [
    {
     "data": {
      "text/plain": [
       "2"
      ]
     },
     "execution_count": 105,
     "metadata": {},
     "output_type": "execute_result"
    }
   ],
   "source": [
    "arr.ndim # Dimension of Array"
   ]
  },
  {
   "cell_type": "code",
   "execution_count": 106,
   "id": "84b30074-1cfc-4007-aaf5-3d43b0105547",
   "metadata": {},
   "outputs": [
    {
     "data": {
      "text/plain": [
       "dtype('int32')"
      ]
     },
     "execution_count": 106,
     "metadata": {},
     "output_type": "execute_result"
    }
   ],
   "source": [
    "arr.dtype # int64 or \"int32 for Windows\""
   ]
  },
  {
   "cell_type": "code",
   "execution_count": 107,
   "id": "9a7c0c2c-b5e7-4df8-ae41-adcef7c4ac89",
   "metadata": {},
   "outputs": [
    {
     "data": {
      "text/plain": [
       "array([[1., 2., 3.],\n",
       "       [4., 5., 6.],\n",
       "       [7., 8., 9.]], dtype=float32)"
      ]
     },
     "execution_count": 107,
     "metadata": {},
     "output_type": "execute_result"
    }
   ],
   "source": [
    "### Chnaging data type\n",
    "\n",
    "arr1 = np.array([[1, 2, 3],[4, 5, 6], [7, 8, 9]], dtype=np.float32)  # Explicit type\n",
    "arr1"
   ]
  },
  {
   "cell_type": "code",
   "execution_count": 108,
   "id": "85234649-2700-4cba-8514-7ad7ad7f3888",
   "metadata": {},
   "outputs": [
    {
     "data": {
      "text/plain": [
       "dtype('float32')"
      ]
     },
     "execution_count": 108,
     "metadata": {},
     "output_type": "execute_result"
    }
   ],
   "source": [
    "arr1.dtype"
   ]
  },
  {
   "cell_type": "code",
   "execution_count": 109,
   "id": "4fa0bc9f-edd9-45e1-8856-125efca7c981",
   "metadata": {},
   "outputs": [
    {
     "name": "stdout",
     "output_type": "stream",
     "text": [
      "[[1 2 3]\n",
      " [4 5 6]\n",
      " [7 8 9]]\n"
     ]
    },
    {
     "data": {
      "text/plain": [
       "dtype('int32')"
      ]
     },
     "execution_count": 109,
     "metadata": {},
     "output_type": "execute_result"
    }
   ],
   "source": [
    "arr_int = arr1.astype(np.int32)           # Convert float to int\n",
    "print(arr_int)\n",
    "\n",
    "arr_int.dtype"
   ]
  },
  {
   "cell_type": "code",
   "execution_count": 110,
   "id": "cb6d041c-df07-46c5-9e85-d3c6150c5b50",
   "metadata": {},
   "outputs": [
    {
     "data": {
      "text/plain": [
       "array([[1, 2, 3],\n",
       "       [4, 5, 6],\n",
       "       [7, 8, 9]])"
      ]
     },
     "execution_count": 110,
     "metadata": {},
     "output_type": "execute_result"
    }
   ],
   "source": [
    "arr2 = np.array([[1, 2, 3],[4, 5, 6], [7, 8, 9]])\n",
    "arr2"
   ]
  },
  {
   "cell_type": "code",
   "execution_count": 111,
   "id": "4fdea1a6-2a20-48ee-bbcb-645d036818d9",
   "metadata": {},
   "outputs": [
    {
     "data": {
      "text/plain": [
       "dtype('float64')"
      ]
     },
     "execution_count": 111,
     "metadata": {},
     "output_type": "execute_result"
    }
   ],
   "source": [
    "n = arr.astype('float64')\n",
    "n.dtype"
   ]
  },
  {
   "cell_type": "code",
   "execution_count": 112,
   "id": "8c65b0c8-142c-4012-accc-3e501009450f",
   "metadata": {},
   "outputs": [
    {
     "name": "stdout",
     "output_type": "stream",
     "text": [
      "float32\n",
      "int32\n"
     ]
    }
   ],
   "source": [
    "print(arr1.dtype)\n",
    "print(arr2.dtype)"
   ]
  },
  {
   "cell_type": "code",
   "execution_count": 116,
   "id": "279b1a03-fae0-431e-9c42-31978532bc8d",
   "metadata": {},
   "outputs": [
    {
     "data": {
      "text/plain": [
       "(4, 3)"
      ]
     },
     "execution_count": 116,
     "metadata": {},
     "output_type": "execute_result"
    }
   ],
   "source": [
    "### Reshaping and flattering Arrays\n",
    "\n",
    "arr = np.array([[1, 2, 3], [4, 5, 6], [7, 8, 9], [10, 11, 12]])\n",
    "arr.shape"
   ]
  },
  {
   "cell_type": "code",
   "execution_count": 117,
   "id": "bc83be4e-9ac9-4f8a-a19f-7efda1965380",
   "metadata": {},
   "outputs": [
    {
     "data": {
      "text/plain": [
       "array([[ 1,  2,  3,  4],\n",
       "       [ 5,  6,  7,  8],\n",
       "       [ 9, 10, 11, 12]])"
      ]
     },
     "execution_count": 117,
     "metadata": {},
     "output_type": "execute_result"
    }
   ],
   "source": [
    "reshaped = arr.reshape((3,4))\n",
    "reshaped"
   ]
  },
  {
   "cell_type": "code",
   "execution_count": 118,
   "id": "f8047bb6-c279-43cd-af11-60274092a93e",
   "metadata": {},
   "outputs": [
    {
     "data": {
      "text/plain": [
       "array([[ 1,  2,  3],\n",
       "       [ 4,  5,  6],\n",
       "       [ 7,  8,  9],\n",
       "       [10, 11, 12]])"
      ]
     },
     "execution_count": 118,
     "metadata": {},
     "output_type": "execute_result"
    }
   ],
   "source": [
    "arr"
   ]
  },
  {
   "cell_type": "code",
   "execution_count": 120,
   "id": "a69132d8-76e3-4479-aba0-c53a2eceefa3",
   "metadata": {},
   "outputs": [
    {
     "data": {
      "text/plain": [
       "array([[ 1,  2,  3,  4,  5,  6],\n",
       "       [ 7,  8,  9, 10, 11, 12]])"
      ]
     },
     "execution_count": 120,
     "metadata": {},
     "output_type": "execute_result"
    }
   ],
   "source": [
    "reshaped1 = arr.reshape((2, 6))       # Note: The mul of row & col should be the same \n",
    "reshaped1               "
   ]
  },
  {
   "cell_type": "code",
   "execution_count": 122,
   "id": "d1241fe6-f5e8-4d81-b183-0ba1ff424261",
   "metadata": {},
   "outputs": [
    {
     "data": {
      "text/plain": [
       "array([ 1,  2,  3,  4,  5,  6,  7,  8,  9, 10, 11, 12])"
      ]
     },
     "execution_count": 122,
     "metadata": {},
     "output_type": "execute_result"
    }
   ],
   "source": [
    "flattened = arr.flatten()            # It convert any dimentional arry to \"1D\".\n",
    "flattened"
   ]
  },
  {
   "cell_type": "code",
   "execution_count": 126,
   "id": "f90219bd-57a1-41cc-af3a-f3f2c6aa9714",
   "metadata": {},
   "outputs": [
    {
     "data": {
      "text/plain": [
       "array([[[1, 2],\n",
       "        [3, 4]],\n",
       "\n",
       "       [[5, 6],\n",
       "        [7, 8]]])"
      ]
     },
     "execution_count": 126,
     "metadata": {},
     "output_type": "execute_result"
    }
   ],
   "source": [
    "# Example any dimensional Array to 1D array\n",
    "\n",
    "arr3 = np.array([[[1, 2], [3, 4]], [[5, 6],[7, 8]]])\n",
    "arr3"
   ]
  },
  {
   "cell_type": "code",
   "execution_count": 127,
   "id": "ecf66105-afe2-4490-8e83-c5b14182d4dc",
   "metadata": {},
   "outputs": [
    {
     "data": {
      "text/plain": [
       "3"
      ]
     },
     "execution_count": 127,
     "metadata": {},
     "output_type": "execute_result"
    }
   ],
   "source": [
    "arr3.ndim"
   ]
  },
  {
   "cell_type": "code",
   "execution_count": 128,
   "id": "5cca0b53-886b-4631-ad95-1365ebe79ee3",
   "metadata": {},
   "outputs": [
    {
     "data": {
      "text/plain": [
       "array([1, 2, 3, 4, 5, 6, 7, 8])"
      ]
     },
     "execution_count": 128,
     "metadata": {},
     "output_type": "execute_result"
    }
   ],
   "source": [
    "arr3.flatten()"
   ]
  },
  {
   "cell_type": "code",
   "execution_count": null,
   "id": "56d9ab22-4b64-467f-be12-51fafd842074",
   "metadata": {
    "editable": true,
    "slideshow": {
     "slide_type": ""
    },
    "tags": []
   },
   "outputs": [],
   "source": []
  }
 ],
 "metadata": {
  "kernelspec": {
   "display_name": "Python [conda env:base] *",
   "language": "python",
   "name": "conda-base-py"
  },
  "language_info": {
   "codemirror_mode": {
    "name": "ipython",
    "version": 3
   },
   "file_extension": ".py",
   "mimetype": "text/x-python",
   "name": "python",
   "nbconvert_exporter": "python",
   "pygments_lexer": "ipython3",
   "version": "3.12.7"
  }
 },
 "nbformat": 4,
 "nbformat_minor": 5
}
