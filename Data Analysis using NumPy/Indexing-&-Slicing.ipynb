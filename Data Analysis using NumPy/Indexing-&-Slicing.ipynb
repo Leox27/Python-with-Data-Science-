{
 "cells": [
  {
   "cell_type": "code",
   "execution_count": 1,
   "id": "eb06a609-9a10-4baf-97e7-b1f3d9019003",
   "metadata": {
    "editable": true,
    "slideshow": {
     "slide_type": ""
    },
    "tags": []
   },
   "outputs": [],
   "source": [
    "import numpy as np"
   ]
  },
  {
   "cell_type": "code",
   "execution_count": 3,
   "id": "50a9beed-0c93-436e-b60e-38c1e238ee8f",
   "metadata": {},
   "outputs": [
    {
     "data": {
      "text/plain": [
       "array([[ 1,  2,  3],\n",
       "       [ 4,  5,  6],\n",
       "       [ 7,  8,  9],\n",
       "       [10, 11, 12]])"
      ]
     },
     "execution_count": 3,
     "metadata": {},
     "output_type": "execute_result"
    }
   ],
   "source": [
    "### Indexing\n",
    "\n",
    "arr = np.array([[1, 2, 3], [4, 5, 6], [7, 8, 9], [10, 11,12]])\n",
    "arr\n"
   ]
  },
  {
   "cell_type": "code",
   "execution_count": 5,
   "id": "cb59d8e9-e6bb-40f9-9e73-562ace1a6082",
   "metadata": {
    "editable": true,
    "slideshow": {
     "slide_type": ""
    },
    "tags": []
   },
   "outputs": [
    {
     "data": {
      "text/plain": [
       "array([ 1,  2,  3,  4,  5,  6,  7,  8,  9, 10, 11, 12])"
      ]
     },
     "execution_count": 5,
     "metadata": {},
     "output_type": "execute_result"
    }
   ],
   "source": [
    "flattened = arr.flatten()\n",
    "flattened"
   ]
  },
  {
   "cell_type": "code",
   "execution_count": 6,
   "id": "41999ef5-559c-4845-b47b-d21f0262b3de",
   "metadata": {},
   "outputs": [
    {
     "data": {
      "text/plain": [
       "1"
      ]
     },
     "execution_count": 6,
     "metadata": {},
     "output_type": "execute_result"
    }
   ],
   "source": [
    "flattened[0]"
   ]
  },
  {
   "cell_type": "code",
   "execution_count": 7,
   "id": "fc94ad2b-8d2f-4e39-91a7-5c2c4defb7d2",
   "metadata": {},
   "outputs": [
    {
     "data": {
      "text/plain": [
       "array([1, 2, 3, 4, 5])"
      ]
     },
     "execution_count": 7,
     "metadata": {},
     "output_type": "execute_result"
    }
   ],
   "source": [
    "flattened[:5]"
   ]
  },
  {
   "cell_type": "code",
   "execution_count": 8,
   "id": "fb6b686e-d419-4d71-99a5-4297f97d4a05",
   "metadata": {},
   "outputs": [
    {
     "data": {
      "text/plain": [
       "array([ 4,  5,  6,  7,  8,  9, 10, 11, 12])"
      ]
     },
     "execution_count": 8,
     "metadata": {},
     "output_type": "execute_result"
    }
   ],
   "source": [
    "flattened[3:]"
   ]
  },
  {
   "cell_type": "code",
   "execution_count": 10,
   "id": "8dd3ddbb-3ef4-473a-85e9-829e1a44adf6",
   "metadata": {},
   "outputs": [
    {
     "data": {
      "text/plain": [
       "array([ 1,  2,  3,  4,  5,  6,  7,  8,  9, 10, 11, 12])"
      ]
     },
     "execution_count": 10,
     "metadata": {},
     "output_type": "execute_result"
    }
   ],
   "source": [
    "### Slicing in NumPy Array\n",
    "\n",
    "flattened"
   ]
  },
  {
   "cell_type": "code",
   "execution_count": 14,
   "id": "0b961bbd-f0f2-4e16-8812-a56db368ab4d",
   "metadata": {},
   "outputs": [
    {
     "data": {
      "text/plain": [
       "array([3, 4, 5])"
      ]
     },
     "execution_count": 14,
     "metadata": {},
     "output_type": "execute_result"
    }
   ],
   "source": [
    "b = flattened[2:5]\n",
    "b"
   ]
  },
  {
   "cell_type": "code",
   "execution_count": 16,
   "id": "808dcfe9-3857-4a3c-9909-56466376a257",
   "metadata": {},
   "outputs": [
    {
     "data": {
      "text/plain": [
       "array([27,  4,  5])"
      ]
     },
     "execution_count": 16,
     "metadata": {},
     "output_type": "execute_result"
    }
   ],
   "source": [
    "b[0] = 27 # We change the value at index 0 is 3 to 27\n",
    "b"
   ]
  },
  {
   "cell_type": "code",
   "execution_count": 17,
   "id": "97774886-09a9-4e73-aa4c-10c6360d7111",
   "metadata": {},
   "outputs": [
    {
     "data": {
      "text/plain": [
       "array([ 1,  2, 27,  4,  5,  6,  7,  8,  9, 10, 11, 12])"
      ]
     },
     "execution_count": 17,
     "metadata": {},
     "output_type": "execute_result"
    }
   ],
   "source": [
    "flattened  # instead of getting copy of original array it gives us updated array"
   ]
  },
  {
   "cell_type": "code",
   "execution_count": 21,
   "id": "7ca9f234-0dc8-4b14-bd04-26d3db84951c",
   "metadata": {},
   "outputs": [
    {
     "data": {
      "text/plain": [
       "array([27,  4,  5])"
      ]
     },
     "execution_count": 21,
     "metadata": {},
     "output_type": "execute_result"
    }
   ],
   "source": [
    "# Now we can create a copy of orif+ginal array\n",
    "# by using the .copy() method\n",
    "\n",
    "b = flattened[2:5].copy()\n",
    "b"
   ]
  },
  {
   "cell_type": "code",
   "execution_count": 23,
   "id": "85faf8db-c4e9-4f24-b551-60c7a2ce3f7f",
   "metadata": {},
   "outputs": [
    {
     "data": {
      "text/plain": [
       "array([1027,    4,    5])"
      ]
     },
     "execution_count": 23,
     "metadata": {},
     "output_type": "execute_result"
    }
   ],
   "source": [
    "b[0] = 1027\n",
    "b"
   ]
  },
  {
   "cell_type": "code",
   "execution_count": 24,
   "id": "86fbe70a-2a31-441c-80fb-c4d7f4efb690",
   "metadata": {},
   "outputs": [
    {
     "data": {
      "text/plain": [
       "array([ 1,  2, 27,  4,  5,  6,  7,  8,  9, 10, 11, 12])"
      ]
     },
     "execution_count": 24,
     "metadata": {},
     "output_type": "execute_result"
    }
   ],
   "source": [
    "flattened # Now see the original array is not changed instead it creates a new array"
   ]
  },
  {
   "cell_type": "code",
   "execution_count": 39,
   "id": "a20f9580-832b-4e47-9c66-c33d2140546b",
   "metadata": {
    "editable": true,
    "slideshow": {
     "slide_type": ""
    },
    "tags": []
   },
   "outputs": [
    {
     "name": "stdout",
     "output_type": "stream",
     "text": [
      "[[ 10  30  60  80 100]]\n"
     ]
    }
   ],
   "source": [
    "### Fancy indexing\n",
    "\n",
    "arr1 = np.array([10, 20, 30, 40, 50, 60, 70, 80, 90, 100])\n",
    "idx = [[0, 2, 5, 7, 9]]\n",
    "print(arr1[idx])"
   ]
  },
  {
   "cell_type": "code",
   "execution_count": 38,
   "id": "860dc0ae-68cc-4509-8473-92185a8fe91a",
   "metadata": {},
   "outputs": [
    {
     "name": "stdout",
     "output_type": "stream",
     "text": [
      "[ 50  60  70  80  90 100]\n"
     ]
    }
   ],
   "source": [
    "### Boolean masking\n",
    "\n",
    "arr2 = np.array([10, 20, 30, 40, 50, 60, 70, 80, 90, 100])\n",
    "mask = arr2 > 40\n",
    "\n",
    "print(arr2[mask])"
   ]
  },
  {
   "cell_type": "code",
   "execution_count": null,
   "id": "c541652b-ec6a-467a-9347-9ee57fa723ff",
   "metadata": {
    "editable": true,
    "slideshow": {
     "slide_type": ""
    },
    "tags": []
   },
   "outputs": [],
   "source": []
  }
 ],
 "metadata": {
  "kernelspec": {
   "display_name": "Python [conda env:base] *",
   "language": "python",
   "name": "conda-base-py"
  },
  "language_info": {
   "codemirror_mode": {
    "name": "ipython",
    "version": 3
   },
   "file_extension": ".py",
   "mimetype": "text/x-python",
   "name": "python",
   "nbconvert_exporter": "python",
   "pygments_lexer": "ipython3",
   "version": "3.12.7"
  }
 },
 "nbformat": 4,
 "nbformat_minor": 5
}
