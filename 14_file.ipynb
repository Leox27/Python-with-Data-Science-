{
 "cells": [
  {
   "cell_type": "code",
   "execution_count": 34,
   "id": "2794f40c-05a8-4410-9b80-66345f551470",
   "metadata": {},
   "outputs": [],
   "source": [
    "f = open(\"text.txt\", \"r\")"
   ]
  },
  {
   "cell_type": "code",
   "execution_count": 35,
   "id": "a454d0e5-29f2-4888-a887-6735e63d131f",
   "metadata": {},
   "outputs": [
    {
     "data": {
      "text/plain": [
       "'Hello everyone '"
      ]
     },
     "execution_count": 35,
     "metadata": {},
     "output_type": "execute_result"
    }
   ],
   "source": [
    "f.read()"
   ]
  },
  {
   "cell_type": "code",
   "execution_count": 36,
   "id": "d9807669-0182-45d2-b52d-4f0a8c434141",
   "metadata": {},
   "outputs": [],
   "source": [
    "s = \"Mayur is greatest of all time\""
   ]
  },
  {
   "cell_type": "code",
   "execution_count": 37,
   "id": "bd052cb7-ccea-481f-a0c5-3916afa2c11e",
   "metadata": {},
   "outputs": [],
   "source": [
    "f.close()"
   ]
  },
  {
   "cell_type": "code",
   "execution_count": 38,
   "id": "a40821d5-ef2e-4573-9981-a26956b87973",
   "metadata": {},
   "outputs": [],
   "source": [
    "f = open(\"text1.txt\", \"w\")"
   ]
  },
  {
   "cell_type": "raw",
   "id": "e52f52a6-3c89-4096-9f59-a023d49c8050",
   "metadata": {},
   "source": [
    "f.write(s)"
   ]
  },
  {
   "cell_type": "code",
   "execution_count": 40,
   "id": "0dd3fab6-f16a-4b87-8b57-24edca51409e",
   "metadata": {},
   "outputs": [],
   "source": [
    "f.close()"
   ]
  },
  {
   "cell_type": "code",
   "execution_count": null,
   "id": "07e009c6-c1bb-4353-88b8-2c2bb77fdea6",
   "metadata": {},
   "outputs": [],
   "source": []
  }
 ],
 "metadata": {
  "kernelspec": {
   "display_name": "Python [conda env:base] *",
   "language": "python",
   "name": "conda-base-py"
  },
  "language_info": {
   "codemirror_mode": {
    "name": "ipython",
    "version": 3
   },
   "file_extension": ".py",
   "mimetype": "text/x-python",
   "name": "python",
   "nbconvert_exporter": "python",
   "pygments_lexer": "ipython3",
   "version": "3.12.7"
  }
 },
 "nbformat": 4,
 "nbformat_minor": 5
}
