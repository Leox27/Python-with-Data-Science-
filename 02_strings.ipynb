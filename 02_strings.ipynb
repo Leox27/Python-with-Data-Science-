{
 "cells": [
  {
   "cell_type": "code",
   "execution_count": 6,
   "id": "c3072237-4407-4558-b22e-98a2189845ee",
   "metadata": {},
   "outputs": [],
   "source": [
    "name = \"Mayurr\""
   ]
  },
  {
   "cell_type": "code",
   "execution_count": 7,
   "id": "576d23fa-904c-4f4a-9350-e7770af9ee96",
   "metadata": {},
   "outputs": [
    {
     "data": {
      "text/plain": [
       "'Mayurr'"
      ]
     },
     "execution_count": 7,
     "metadata": {},
     "output_type": "execute_result"
    }
   ],
   "source": [
    "name"
   ]
  },
  {
   "cell_type": "code",
   "execution_count": 8,
   "id": "fe564d39-800b-4329-8775-a1d4c550e730",
   "metadata": {},
   "outputs": [
    {
     "data": {
      "text/plain": [
       "'MAYURR'"
      ]
     },
     "execution_count": 8,
     "metadata": {},
     "output_type": "execute_result"
    }
   ],
   "source": [
    "name.upper()\n"
   ]
  },
  {
   "cell_type": "code",
   "execution_count": 9,
   "id": "b9d3c075-5ae0-45a6-8007-3941bd1d2e92",
   "metadata": {},
   "outputs": [
    {
     "data": {
      "text/plain": [
       "True"
      ]
     },
     "execution_count": 9,
     "metadata": {},
     "output_type": "execute_result"
    }
   ],
   "source": [
    "name.endswith(\"r\")"
   ]
  },
  {
   "cell_type": "code",
   "execution_count": 10,
   "id": "14421c3d-0949-442f-a3ce-90589862b299",
   "metadata": {},
   "outputs": [
    {
     "data": {
      "text/plain": [
       "2"
      ]
     },
     "execution_count": 10,
     "metadata": {},
     "output_type": "execute_result"
    }
   ],
   "source": [
    "name.count(\"r\")"
   ]
  },
  {
   "cell_type": "code",
   "execution_count": 12,
   "id": "d192ec47-98ac-4483-82bd-c476cbf3f7de",
   "metadata": {},
   "outputs": [
    {
     "data": {
      "text/plain": [
       "'Mayu'"
      ]
     },
     "execution_count": 12,
     "metadata": {},
     "output_type": "execute_result"
    }
   ],
   "source": [
    "name.replace(\"r\", \"\")"
   ]
  },
  {
   "cell_type": "code",
   "execution_count": 16,
   "id": "43427ada-c59b-4b9d-bd9c-896497eef553",
   "metadata": {},
   "outputs": [
    {
     "name": "stdout",
     "output_type": "stream",
     "text": [
      "6\n"
     ]
    }
   ],
   "source": [
    "print(len(name))"
   ]
  },
  {
   "cell_type": "code",
   "execution_count": 19,
   "id": "82c8aa11-cbec-4147-b3e6-3378cbae4f50",
   "metadata": {},
   "outputs": [
    {
     "data": {
      "text/plain": [
       "'Mayur'"
      ]
     },
     "execution_count": 19,
     "metadata": {},
     "output_type": "execute_result"
    }
   ],
   "source": [
    "name[0:5]"
   ]
  },
  {
   "cell_type": "code",
   "execution_count": 20,
   "id": "0d61a755-f19f-474d-8f9d-a4f4cdba9249",
   "metadata": {},
   "outputs": [
    {
     "data": {
      "text/plain": [
       "'ayur'"
      ]
     },
     "execution_count": 20,
     "metadata": {},
     "output_type": "execute_result"
    }
   ],
   "source": [
    "name[1:-1]"
   ]
  },
  {
   "cell_type": "code",
   "execution_count": null,
   "id": "60f586f3-b56a-49fa-85bf-8aa1253f6d5b",
   "metadata": {},
   "outputs": [],
   "source": []
  }
 ],
 "metadata": {
  "kernelspec": {
   "display_name": "Python [conda env:base] *",
   "language": "python",
   "name": "conda-base-py"
  },
  "language_info": {
   "codemirror_mode": {
    "name": "ipython",
    "version": 3
   },
   "file_extension": ".py",
   "mimetype": "text/x-python",
   "name": "python",
   "nbconvert_exporter": "python",
   "pygments_lexer": "ipython3",
   "version": "3.12.7"
  }
 },
 "nbformat": 4,
 "nbformat_minor": 5
}
