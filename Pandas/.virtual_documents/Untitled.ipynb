import pandas as pd


data = ([["mayur", 21], ["suraj", 22], ["vishwas", 20]]) # By List
data


df = pd.DataFrame(data, columns = ["Names", "Age"]) # The list in Pandas
df


dic = {"a": [1, 2, 3], "b": [4, 5, 6]} # The dictionary 
dic


df1 = pd.DataFrame(dic) # Thedictionary in Pandas
df1


import numpy as np


arr = np.array([[1,2], [3, 4]]) # The NumPy array
arr


df = pd.DataFrame(arr, columns = ['A', 'B']) # By using Pandas
df


### File reading from .xlsx (Excel)

df = pd.read_excel("Book1.xlsx") 
df


### File reading from .csv

df2 = pd.read_csv("Book2.csv")
df2


### Read  from .json

df3 = pd.read_json("Book3.json")
df3


### Read from URL

url = "https://raw.githubusercontent.com/mwaskom/seaborn-data/master/tips.csv"

df4 = pd.read_csv(url)
df4 # Oh my god the bills are too large but when you work as a Data Scientist it just like an 🐜 😂 





df4.head() # It gives 1st 5-rows


df4.tail() # Last 5-rows


df4.describe() 


df4.info() # Gives info about entire datasheet 


df4.columns


df4.shape # rows x columns



