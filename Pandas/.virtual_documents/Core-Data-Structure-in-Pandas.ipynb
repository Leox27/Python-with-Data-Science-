import pandas as pd


s1 = pd.Series([67, 78, 56, 89,67, 87])
s1


s2 = pd.Series([76, 78, 90, 78, 87, 99], index = ["Mayur", "Suraj", "Varun", "Vishwas", "Sohel", "Soham"]) # By using the indexing
s2


# DataFrame in Pandas

data = {
    "name": ["Alice", "Bob", "Charlie"],
    "age": [25, 30, 35],
    "city": ["Delhi", "Mumbai", "Bangalore"]
}



df = pd.DataFrame(data)
print(df)



