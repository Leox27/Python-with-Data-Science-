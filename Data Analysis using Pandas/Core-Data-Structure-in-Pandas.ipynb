{
 "cells": [
  {
   "cell_type": "code",
   "execution_count": 8,
   "id": "eee21f6a-7888-4a2d-9505-6332748121bb",
   "metadata": {},
   "outputs": [],
   "source": [
    "import pandas as pd"
   ]
  },
  {
   "cell_type": "code",
   "execution_count": 9,
   "id": "3fc3a1af-e95e-4630-b705-a0b76622183c",
   "metadata": {},
   "outputs": [
    {
     "data": {
      "text/plain": [
       "0    67\n",
       "1    78\n",
       "2    56\n",
       "3    89\n",
       "4    67\n",
       "5    87\n",
       "dtype: int64"
      ]
     },
     "execution_count": 9,
     "metadata": {},
     "output_type": "execute_result"
    }
   ],
   "source": [
    "s1 = pd.Series([67, 78, 56, 89,67, 87])\n",
    "s1"
   ]
  },
  {
   "cell_type": "code",
   "execution_count": 10,
   "id": "c6ee416d-dcfb-4c95-8cc8-491d87f4a991",
   "metadata": {},
   "outputs": [
    {
     "data": {
      "text/plain": [
       "Mayur      76\n",
       "Suraj      78\n",
       "Varun      90\n",
       "Vishwas    78\n",
       "Sohel      87\n",
       "Soham      99\n",
       "dtype: int64"
      ]
     },
     "execution_count": 10,
     "metadata": {},
     "output_type": "execute_result"
    }
   ],
   "source": [
    "s2 = pd.Series([76, 78, 90, 78, 87, 99], index = [\"Mayur\", \"Suraj\", \"Varun\", \"Vishwas\", \"Sohel\", \"Soham\"]) # By using the indexing\n",
    "s2"
   ]
  },
  {
   "cell_type": "code",
   "execution_count": 11,
   "id": "f03b4045-57db-41e9-bbeb-942fe4c291ce",
   "metadata": {},
   "outputs": [],
   "source": [
    "# DataFrame in Pandas\n",
    "\n",
    "data = {\n",
    "    \"name\": [\"Alice\", \"Bob\", \"Charlie\", \"Mayur\"],\n",
    "    \"age\": [25, 30, 35, 21],\n",
    "    \"city\": [\"Delhi\", \"Mumbai\", \"Bangalore\", \"Solapur\"]\n",
    "}                                                           # It is an dict\n"
   ]
  },
  {
   "cell_type": "code",
   "execution_count": 14,
   "id": "2625c8dd-b654-4a04-b416-d9b92d4f7056",
   "metadata": {},
   "outputs": [
    {
     "name": "stdout",
     "output_type": "stream",
     "text": [
      "      name  age       city\n",
      "1    Alice   25      Delhi\n",
      "2      Bob   30     Mumbai\n",
      "3  Charlie   35  Bangalore\n",
      "4    Mayur   21    Solapur\n"
     ]
    }
   ],
   "source": [
    "df = pd.DataFrame(data, index = [1, 2, 3, 4]) # We can even add index what we want to start from\n",
    "print(df)"
   ]
  },
  {
   "cell_type": "code",
   "execution_count": null,
   "id": "36743347-83b7-4f53-a749-88c246868af1",
   "metadata": {},
   "outputs": [],
   "source": []
  }
 ],
 "metadata": {
  "kernelspec": {
   "display_name": "Python [conda env:base] *",
   "language": "python",
   "name": "conda-base-py"
  },
  "language_info": {
   "codemirror_mode": {
    "name": "ipython",
    "version": 3
   },
   "file_extension": ".py",
   "mimetype": "text/x-python",
   "name": "python",
   "nbconvert_exporter": "python",
   "pygments_lexer": "ipython3",
   "version": "3.12.7"
  }
 },
 "nbformat": 4,
 "nbformat_minor": 5
}
