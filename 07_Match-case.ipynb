{
 "cells": [
  {
   "cell_type": "code",
   "execution_count": 9,
   "id": "36fe5658-c808-45ee-bcec-483119539824",
   "metadata": {},
   "outputs": [],
   "source": [
    "code=500     "
   ]
  },
  {
   "cell_type": "code",
   "execution_count": 10,
   "id": "80c5fd7e-3880-435b-8173-bb82463849e8",
   "metadata": {},
   "outputs": [
    {
     "name": "stdout",
     "output_type": "stream",
     "text": [
      "Nothinf matched\n",
      "End of the execution\n"
     ]
    }
   ],
   "source": [
    "\n",
    "match code:\n",
    "    case 200:\n",
    "        print(\"Rsponse Okay.\")\n",
    "        print(\"Good job\")\n",
    "    case 400:\n",
    "        print(\"Response is Bad\")\n",
    "    case 404:\n",
    "        print(\"Error found\")\n",
    "    case _:\n",
    "        print(\"Nothinf matched\")\n",
    "            \n",
    "print(\"End of the execution\")\n"
   ]
  },
  {
   "cell_type": "code",
   "execution_count": 11,
   "id": "ad8925b7-89fe-4a79-bbe0-5e15df7d7d29",
   "metadata": {},
   "outputs": [
    {
     "name": "stdout",
     "output_type": "stream",
     "text": [
      "Rsponse Okay.\n",
      "Good job\n",
      "None\n",
      "Response is Bad\n",
      "None\n",
      "Error found\n",
      "None\n",
      "Nothinf matched\n",
      "None\n"
     ]
    }
   ],
   "source": [
    "print(https_serverStatus(200))\n",
    "print(https_serverStatus(400))\n",
    "print(https_serverStatus(404))\n",
    "print(https_serverStatus(40))"
   ]
  },
  {
   "cell_type": "code",
   "execution_count": null,
   "id": "8cc39035-d7ba-429b-aa56-31ce998657a6",
   "metadata": {},
   "outputs": [],
   "source": []
  }
 ],
 "metadata": {
  "kernelspec": {
   "display_name": "Python [conda env:base] *",
   "language": "python",
   "name": "conda-base-py"
  },
  "language_info": {
   "codemirror_mode": {
    "name": "ipython",
    "version": 3
   },
   "file_extension": ".py",
   "mimetype": "text/x-python",
   "name": "python",
   "nbconvert_exporter": "python",
   "pygments_lexer": "ipython3",
   "version": "3.12.7"
  }
 },
 "nbformat": 4,
 "nbformat_minor": 5
}
