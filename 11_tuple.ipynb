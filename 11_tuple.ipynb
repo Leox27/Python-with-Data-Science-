{
 "cells": [
  {
   "cell_type": "code",
   "execution_count": 1,
   "id": "e3ad1e83-61b3-4bf6-a2a5-013479a2d9bd",
   "metadata": {},
   "outputs": [],
   "source": [
    "e = ()"
   ]
  },
  {
   "cell_type": "code",
   "execution_count": 2,
   "id": "cd8b860a-72c2-49f5-8a42-a19df5074a0f",
   "metadata": {},
   "outputs": [
    {
     "data": {
      "text/plain": [
       "tuple"
      ]
     },
     "execution_count": 2,
     "metadata": {},
     "output_type": "execute_result"
    }
   ],
   "source": [
    "type(e)"
   ]
  },
  {
   "cell_type": "code",
   "execution_count": 3,
   "id": "863d4950-1437-4e25-9335-605519138993",
   "metadata": {},
   "outputs": [],
   "source": [
    "t = (23, 56, 67, 78)"
   ]
  },
  {
   "cell_type": "code",
   "execution_count": 4,
   "id": "e0f3f9eb-0e3e-4dae-ad85-634df80da4c7",
   "metadata": {},
   "outputs": [
    {
     "data": {
      "text/plain": [
       "56"
      ]
     },
     "execution_count": 4,
     "metadata": {},
     "output_type": "execute_result"
    }
   ],
   "source": [
    "t[1]"
   ]
  },
  {
   "cell_type": "code",
   "execution_count": 7,
   "id": "012a3950-9992-49ad-b10c-f93af3ed2e5c",
   "metadata": {},
   "outputs": [
    {
     "data": {
      "text/plain": [
       "4"
      ]
     },
     "execution_count": 7,
     "metadata": {},
     "output_type": "execute_result"
    }
   ],
   "source": [
    "len(t)"
   ]
  },
  {
   "cell_type": "code",
   "execution_count": 14,
   "id": "499550ae-752b-418c-b7dc-9aa3f6bc1e7e",
   "metadata": {},
   "outputs": [],
   "source": [
    "# Packing and Unpacking"
   ]
  },
  {
   "cell_type": "code",
   "execution_count": 10,
   "id": "4b39f769-69d8-4124-b432-99a8327262dd",
   "metadata": {},
   "outputs": [],
   "source": [
    "person = (\"Alice\", 25, \"Engineer\")\n",
    "name, age, profession = person"
   ]
  },
  {
   "cell_type": "code",
   "execution_count": 11,
   "id": "10ef3174-a08e-4ceb-91ba-b4c37dc7977e",
   "metadata": {},
   "outputs": [
    {
     "data": {
      "text/plain": [
       "'Alice'"
      ]
     },
     "execution_count": 11,
     "metadata": {},
     "output_type": "execute_result"
    }
   ],
   "source": [
    "name"
   ]
  },
  {
   "cell_type": "code",
   "execution_count": 12,
   "id": "00b190c8-7e55-4b3a-a3f9-1ecfde2b2ce5",
   "metadata": {},
   "outputs": [
    {
     "data": {
      "text/plain": [
       "25"
      ]
     },
     "execution_count": 12,
     "metadata": {},
     "output_type": "execute_result"
    }
   ],
   "source": [
    "age"
   ]
  },
  {
   "cell_type": "code",
   "execution_count": 13,
   "id": "a7821543-18de-44b8-bdd7-1e78671fd7e1",
   "metadata": {},
   "outputs": [
    {
     "data": {
      "text/plain": [
       "'Engineer'"
      ]
     },
     "execution_count": 13,
     "metadata": {},
     "output_type": "execute_result"
    }
   ],
   "source": [
    "profession"
   ]
  },
  {
   "cell_type": "code",
   "execution_count": null,
   "id": "be4b76b7-0e48-4527-96d7-5b1b88389091",
   "metadata": {},
   "outputs": [],
   "source": []
  }
 ],
 "metadata": {
  "kernelspec": {
   "display_name": "Python [conda env:base] *",
   "language": "python",
   "name": "conda-base-py"
  },
  "language_info": {
   "codemirror_mode": {
    "name": "ipython",
    "version": 3
   },
   "file_extension": ".py",
   "mimetype": "text/x-python",
   "name": "python",
   "nbconvert_exporter": "python",
   "pygments_lexer": "ipython3",
   "version": "3.12.7"
  }
 },
 "nbformat": 4,
 "nbformat_minor": 5
}
