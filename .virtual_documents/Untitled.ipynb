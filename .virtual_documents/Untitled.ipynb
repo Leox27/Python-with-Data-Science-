result = 23 + 45 -45 *45


result


# Note: Only the exponentiation right to left 


# Andother operators left to right



