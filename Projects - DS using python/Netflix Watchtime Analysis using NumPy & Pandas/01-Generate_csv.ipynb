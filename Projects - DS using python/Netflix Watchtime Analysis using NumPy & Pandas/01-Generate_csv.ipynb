{
 "cells": [
  {
   "cell_type": "code",
   "execution_count": 1,
   "id": "d5f8e493-04aa-48a0-a631-0c35779d87ad",
   "metadata": {},
   "outputs": [],
   "source": [
    "import numpy as np\n",
    "import pandas as pd"
   ]
  },
  {
   "cell_type": "code",
   "execution_count": 2,
   "id": "f5d3dcff-82d9-4f33-b5f1-7bf527160548",
   "metadata": {},
   "outputs": [],
   "source": [
    "np.random.seed(42)\n",
    "\n",
    "n = 100 # No. of users\n",
    "\n",
    "user_ids = np.arange(1001, 1001 + n) # Creating columns(user_id) for each user\n",
    "\n",
    "ages = np.random.randint(13, 70, size=n) # random ages betn 13-69 for each user.\n",
    "\n",
    "genders = np.random.choice(['Male', 'Female', 'Other'], size=n, p=[0.45, 0.45, 0.10]) # 45%-Male, 45%-Female & 10%-Othrs \n",
    "\n",
    "subscriptions = np.random.choice(['Basic', 'Standard', 'Premium'], size=n, p=[0.3, 0.5, 0.2]) # Subscription: 1)Basic-30%\n",
    "                                                                                                            # 2)Standard-50%\n",
    "                                                                                                            # 3)Premium-20%\n"
   ]
  },
  {
   "cell_type": "code",
   "execution_count": 3,
   "id": "7bfa8ef1-feb9-4bb8-b85c-d7321648282b",
   "metadata": {},
   "outputs": [],
   "source": [
    "watch_time = np.round(np.random.normal(2.5, 1.0, size=n), 1) \n",
    "watch_time = np.clip(watch_time, 0.5, 6.0)  # realistic bounds\n",
    "\n",
    "countries = np.random.choice(['India', 'USA', 'UK', 'Canada', 'Australia'], size=n) # random contries assigned to users\n",
    "\n",
    "activity = np.random.choice([1, 0], size=n, p=[0.85, 0.15])  # mostly active asssigned"
   ]
  },
  {
   "cell_type": "code",
   "execution_count": 4,
   "id": "f133f450-2a65-4a55-a9a4-e7e97d3f52ab",
   "metadata": {},
   "outputs": [
    {
     "name": "stdout",
     "output_type": "stream",
     "text": [
      "Netflix_users_data.csv generated !!!😂\n"
     ]
    }
   ],
   "source": [
    "# Build DataFrame\n",
    "df = pd.DataFrame({\n",
    "    'User ID': user_ids,\n",
    "    'Age': ages,\n",
    "    'Gender': genders,\n",
    "    'Subscription Type': subscriptions,\n",
    "    'Daily Watch Time': watch_time,\n",
    "    'Country': countries,\n",
    "    'Is Active': activity\n",
    "})\n",
    "\n",
    "# Saved to CSV file\n",
    "df.to_csv('Netflix_users_data.csv', index=False)\n",
    "\n",
    "print(\"Netflix_users_data.csv generated !!!😂\")"
   ]
  },
  {
   "cell_type": "code",
   "execution_count": null,
   "id": "98cee254-834d-41f5-be50-c608e933c0c0",
   "metadata": {},
   "outputs": [],
   "source": []
  }
 ],
 "metadata": {
  "kernelspec": {
   "display_name": "Python [conda env:base] *",
   "language": "python",
   "name": "conda-base-py"
  },
  "language_info": {
   "codemirror_mode": {
    "name": "ipython",
    "version": 3
   },
   "file_extension": ".py",
   "mimetype": "text/x-python",
   "name": "python",
   "nbconvert_exporter": "python",
   "pygments_lexer": "ipython3",
   "version": "3.12.7"
  }
 },
 "nbformat": 4,
 "nbformat_minor": 5
}
