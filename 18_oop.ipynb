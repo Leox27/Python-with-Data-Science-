{
 "cells": [
  {
   "cell_type": "code",
   "execution_count": 3,
   "id": "4e0f5d06-a00c-48b0-9bf0-4d6704aecf79",
   "metadata": {},
   "outputs": [
    {
     "name": "stdout",
     "output_type": "stream",
     "text": [
      "The company of Mayur is HP with salary is $2700000\n",
      "I can print without self bcz of @staticmethod\n"
     ]
    }
   ],
   "source": [
    "class Employee:\n",
    "    company = \"HP\"\n",
    "    \n",
    "    def __init__(self, name, salary):\n",
    "        self.name = name\n",
    "        self.salary = salary\n",
    "        \n",
    "    def printDetails(self):\n",
    "        print(f\"The company of {self.name} is {self.company} with salary is ${self.salary}\")\n",
    "\n",
    "    @staticmethod\n",
    "    def printTime():\n",
    "        print(\"I can print without self bcz of @staticmethod\")\n",
    "\n",
    "e = Employee(\"Mayur\", 2700000)\n",
    "e.printDetails()\n",
    "e.printTime()"
   ]
  },
  {
   "cell_type": "code",
   "execution_count": null,
   "id": "c303a6b7-567f-403c-8edc-ec5a32579d14",
   "metadata": {},
   "outputs": [],
   "source": []
  }
 ],
 "metadata": {
  "kernelspec": {
   "display_name": "Python [conda env:base] *",
   "language": "python",
   "name": "conda-base-py"
  },
  "language_info": {
   "codemirror_mode": {
    "name": "ipython",
    "version": 3
   },
   "file_extension": ".py",
   "mimetype": "text/x-python",
   "name": "python",
   "nbconvert_exporter": "python",
   "pygments_lexer": "ipython3",
   "version": "3.12.7"
  }
 },
 "nbformat": 4,
 "nbformat_minor": 5
}
