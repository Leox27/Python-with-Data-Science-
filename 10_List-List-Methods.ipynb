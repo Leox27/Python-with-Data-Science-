{
 "cells": [
  {
   "cell_type": "code",
   "execution_count": 6,
   "id": "353ecee3-179e-41ac-a10f-92d0aeb6738c",
   "metadata": {},
   "outputs": [],
   "source": [
    "list = [3, 45, 23, 6, 78]"
   ]
  },
  {
   "cell_type": "code",
   "execution_count": 57,
   "id": "32686588-a77c-4a45-adf9-cec3cde624cb",
   "metadata": {},
   "outputs": [],
   "source": [
    "list[0] = 27"
   ]
  },
  {
   "cell_type": "code",
   "execution_count": 58,
   "id": "c4455bcf-f81e-462d-bd0f-4aee9ec06dff",
   "metadata": {},
   "outputs": [
    {
     "name": "stdout",
     "output_type": "stream",
     "text": [
      "[27, 45, 27, 27, 23, 7, 4]\n"
     ]
    }
   ],
   "source": [
    "print(list)"
   ]
  },
  {
   "cell_type": "code",
   "execution_count": 9,
   "id": "21eb823a-20c0-41c2-8834-664f34db3ecf",
   "metadata": {},
   "outputs": [],
   "source": [
    "# extend list"
   ]
  },
  {
   "cell_type": "code",
   "execution_count": 10,
   "id": "95f8b6ba-79f0-4e1a-9c4d-e5a8929f8132",
   "metadata": {},
   "outputs": [],
   "source": [
    "list2 = [4, 7]"
   ]
  },
  {
   "cell_type": "code",
   "execution_count": 11,
   "id": "6044edec-d1ca-4195-90b1-e24cfe98d06e",
   "metadata": {},
   "outputs": [],
   "source": [
    "list.extend(list2)"
   ]
  },
  {
   "cell_type": "code",
   "execution_count": 20,
   "id": "2763b619-4d7b-48a4-bdf9-98d271875f84",
   "metadata": {},
   "outputs": [
    {
     "name": "stdout",
     "output_type": "stream",
     "text": [
      "[27, 27, 27, 27, 45, 23, 6, 78, 4, 7]\n"
     ]
    }
   ],
   "source": [
    "print(list)"
   ]
  },
  {
   "cell_type": "code",
   "execution_count": 21,
   "id": "234a37b9-fc60-4b6a-b78e-5b134630417c",
   "metadata": {},
   "outputs": [],
   "source": [
    "list.insert(1, 27) # it can even insert the same element (repeated)"
   ]
  },
  {
   "cell_type": "code",
   "execution_count": 22,
   "id": "e9dbafd9-3864-43b6-b421-c80d594015f9",
   "metadata": {},
   "outputs": [
    {
     "name": "stdout",
     "output_type": "stream",
     "text": [
      "[27, 27, 27, 27, 27, 45, 23, 6, 78, 4, 7]\n"
     ]
    }
   ],
   "source": [
    "print(list)"
   ]
  },
  {
   "cell_type": "code",
   "execution_count": 26,
   "id": "7a7f3fc0-16a4-40b6-b168-36e6dec013c9",
   "metadata": {},
   "outputs": [
    {
     "data": {
      "text/plain": [
       "27"
      ]
     },
     "execution_count": 26,
     "metadata": {},
     "output_type": "execute_result"
    }
   ],
   "source": [
    "list.pop(0)"
   ]
  },
  {
   "cell_type": "code",
   "execution_count": 27,
   "id": "2f9decab-3343-43b8-aa58-30cc9ba4a794",
   "metadata": {},
   "outputs": [
    {
     "name": "stdout",
     "output_type": "stream",
     "text": [
      "[27, 27, 27, 27, 45, 23, 6, 78, 4, 7]\n"
     ]
    }
   ],
   "source": [
    "print(list)"
   ]
  },
  {
   "cell_type": "code",
   "execution_count": 28,
   "id": "8f72f81c-be6c-424a-be95-c9a625c0e43e",
   "metadata": {},
   "outputs": [
    {
     "data": {
      "text/plain": [
       "27"
      ]
     },
     "execution_count": 28,
     "metadata": {},
     "output_type": "execute_result"
    }
   ],
   "source": [
    "list.pop(1)"
   ]
  },
  {
   "cell_type": "code",
   "execution_count": 29,
   "id": "23bbb80e-3772-4234-a5b9-cf61671fe101",
   "metadata": {},
   "outputs": [
    {
     "data": {
      "text/plain": [
       "27"
      ]
     },
     "execution_count": 29,
     "metadata": {},
     "output_type": "execute_result"
    }
   ],
   "source": [
    "list.pop(2)"
   ]
  },
  {
   "cell_type": "code",
   "execution_count": 30,
   "id": "74d5e4a6-eb72-4a32-952d-a2d03ad8f6b9",
   "metadata": {},
   "outputs": [
    {
     "name": "stdout",
     "output_type": "stream",
     "text": [
      "[27, 27, 45, 23, 6, 78, 4, 7]\n"
     ]
    }
   ],
   "source": [
    "print(list)"
   ]
  },
  {
   "cell_type": "code",
   "execution_count": 33,
   "id": "78b43bb7-2fcd-4500-b446-f672f991407b",
   "metadata": {},
   "outputs": [
    {
     "data": {
      "text/plain": [
       "0"
      ]
     },
     "execution_count": 33,
     "metadata": {},
     "output_type": "execute_result"
    }
   ],
   "source": [
    "list.index(27)"
   ]
  },
  {
   "cell_type": "code",
   "execution_count": 34,
   "id": "71effc8d-e572-4f63-9fd5-842d65a43857",
   "metadata": {},
   "outputs": [
    {
     "data": {
      "text/plain": [
       "[4, 7, 23, 27, 27, 45, 78]"
      ]
     },
     "execution_count": 34,
     "metadata": {},
     "output_type": "execute_result"
    }
   ],
   "source": [
    "sorted(list)"
   ]
  },
  {
   "cell_type": "code",
   "execution_count": 37,
   "id": "4b240842-9a55-489c-898e-cba93c6a057a",
   "metadata": {},
   "outputs": [],
   "source": [
    "list.sort()"
   ]
  },
  {
   "cell_type": "code",
   "execution_count": 39,
   "id": "004d1281-743c-4473-9d62-33c9dc1054cc",
   "metadata": {},
   "outputs": [
    {
     "data": {
      "text/plain": [
       "[4, 7, 23, 27, 27, 45, 78]"
      ]
     },
     "execution_count": 39,
     "metadata": {},
     "output_type": "execute_result"
    }
   ],
   "source": [
    "list"
   ]
  },
  {
   "cell_type": "code",
   "execution_count": 41,
   "id": "754fcd05-f278-48f3-8db1-a0e415c3aa73",
   "metadata": {},
   "outputs": [],
   "source": [
    "list.reverse()"
   ]
  },
  {
   "cell_type": "code",
   "execution_count": 42,
   "id": "2f28f26e-16a2-47c1-a8af-2f92a4cb4e16",
   "metadata": {},
   "outputs": [
    {
     "data": {
      "text/plain": [
       "[78, 45, 27, 27, 23, 7, 4]"
      ]
     },
     "execution_count": 42,
     "metadata": {},
     "output_type": "execute_result"
    }
   ],
   "source": [
    "list"
   ]
  },
  {
   "cell_type": "code",
   "execution_count": 43,
   "id": "a825417d-3174-45e2-b9b1-f7bffe064e28",
   "metadata": {},
   "outputs": [],
   "source": [
    "y = [1, 2, True, False, [2, 7]]"
   ]
  },
  {
   "cell_type": "code",
   "execution_count": 44,
   "id": "c73a27a5-3079-4ad6-ab70-f163106cf870",
   "metadata": {},
   "outputs": [
    {
     "data": {
      "text/plain": [
       "True"
      ]
     },
     "execution_count": 44,
     "metadata": {},
     "output_type": "execute_result"
    }
   ],
   "source": [
    "y[2]"
   ]
  },
  {
   "cell_type": "code",
   "execution_count": 45,
   "id": "564008e4-e133-46cd-acaf-77ffee796cca",
   "metadata": {},
   "outputs": [
    {
     "data": {
      "text/plain": [
       "[2, 7]"
      ]
     },
     "execution_count": 45,
     "metadata": {},
     "output_type": "execute_result"
    }
   ],
   "source": [
    "y[4]"
   ]
  },
  {
   "cell_type": "code",
   "execution_count": 46,
   "id": "dd3aeceb-e3bd-4b2f-9eec-27066bcdab40",
   "metadata": {},
   "outputs": [
    {
     "data": {
      "text/plain": [
       "7"
      ]
     },
     "execution_count": 46,
     "metadata": {},
     "output_type": "execute_result"
    }
   ],
   "source": [
    "y[4][1]"
   ]
  },
  {
   "cell_type": "code",
   "execution_count": 47,
   "id": "0fed9033-b75a-429a-8b45-f8bdcd8c66f4",
   "metadata": {},
   "outputs": [],
   "source": [
    "# List concatenation"
   ]
  },
  {
   "cell_type": "code",
   "execution_count": 49,
   "id": "7241f567-f9fe-4fd5-b391-67386b1ce324",
   "metadata": {},
   "outputs": [],
   "source": [
    "list1 = [1, 2, 3]\n",
    "list2 = [4, 5, 6]"
   ]
  },
  {
   "cell_type": "code",
   "execution_count": 50,
   "id": "00a42503-5015-4c73-9bea-c0dbf6a651f1",
   "metadata": {},
   "outputs": [],
   "source": [
    "list3 = list1 + list2"
   ]
  },
  {
   "cell_type": "code",
   "execution_count": 51,
   "id": "b401d1a2-9ee6-4dd3-ba94-6744e0e708b9",
   "metadata": {},
   "outputs": [
    {
     "name": "stdout",
     "output_type": "stream",
     "text": [
      "[1, 2, 3, 4, 5, 6]\n"
     ]
    }
   ],
   "source": [
    "print(list3)"
   ]
  },
  {
   "cell_type": "code",
   "execution_count": 54,
   "id": "d30ed8f3-c562-4d12-8a56-336602abdad3",
   "metadata": {},
   "outputs": [],
   "source": [
    "if 7 in list3:\n",
    "    print(\"yes\")"
   ]
  },
  {
   "cell_type": "code",
   "execution_count": 56,
   "id": "8b676d5a-679e-4b53-b92c-bc901157aec8",
   "metadata": {},
   "outputs": [
    {
     "data": {
      "text/plain": [
       "True"
      ]
     },
     "execution_count": 56,
     "metadata": {},
     "output_type": "execute_result"
    }
   ],
   "source": [
    "3 in list3"
   ]
  },
  {
   "cell_type": "code",
   "execution_count": null,
   "id": "9fa93a72-8e6e-4c4f-952a-5a94a6d1aa70",
   "metadata": {},
   "outputs": [],
   "source": []
  }
 ],
 "metadata": {
  "kernelspec": {
   "display_name": "Python [conda env:base] *",
   "language": "python",
   "name": "conda-base-py"
  },
  "language_info": {
   "codemirror_mode": {
    "name": "ipython",
    "version": 3
   },
   "file_extension": ".py",
   "mimetype": "text/x-python",
   "name": "python",
   "nbconvert_exporter": "python",
   "pygments_lexer": "ipython3",
   "version": "3.12.7"
  }
 },
 "nbformat": 4,
 "nbformat_minor": 5
}
