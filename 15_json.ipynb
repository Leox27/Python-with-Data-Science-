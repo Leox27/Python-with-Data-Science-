{
 "cells": [
  {
   "cell_type": "code",
   "execution_count": 1,
   "id": "a04fff4b-885b-4924-b2d4-71fa2cc78076",
   "metadata": {},
   "outputs": [],
   "source": [
    "import json"
   ]
  },
  {
   "cell_type": "code",
   "execution_count": 8,
   "id": "d5e77df2-59f1-4b04-bb63-e60927017774",
   "metadata": {},
   "outputs": [],
   "source": [
    "obj = {\"name\":\"Alice\", \"age\":21, \"company\":\"Space-X\"}\n",
    "s = json.dumps(obj) # dumps convert string"
   ]
  },
  {
   "cell_type": "code",
   "execution_count": 9,
   "id": "2bf0dbb6-a1f7-4c40-b1a3-021107da15a0",
   "metadata": {},
   "outputs": [
    {
     "data": {
      "text/plain": [
       "str"
      ]
     },
     "execution_count": 9,
     "metadata": {},
     "output_type": "execute_result"
    }
   ],
   "source": [
    "type(s)"
   ]
  },
  {
   "cell_type": "code",
   "execution_count": 10,
   "id": "37da2454-b12e-47fa-87cf-23b192c52ad0",
   "metadata": {},
   "outputs": [
    {
     "data": {
      "text/plain": [
       "'{\"name\": \"Alice\", \"age\": 21, \"company\": \"Space-X\"}'"
      ]
     },
     "execution_count": 10,
     "metadata": {},
     "output_type": "execute_result"
    }
   ],
   "source": [
    "s"
   ]
  },
  {
   "cell_type": "code",
   "execution_count": 11,
   "id": "bc15fd7e-e6e1-4ff1-820c-fe84f442569d",
   "metadata": {},
   "outputs": [],
   "source": [
    "d = json.loads('{\"name\":\"Alice\", \"age\":21, \"comapny\":\"Space-X\"}') # loads convert to dictionary or objects"
   ]
  },
  {
   "cell_type": "code",
   "execution_count": 12,
   "id": "835e6767-b6cc-4400-8fca-d7513630f1a7",
   "metadata": {},
   "outputs": [
    {
     "data": {
      "text/plain": [
       "dict"
      ]
     },
     "execution_count": 12,
     "metadata": {},
     "output_type": "execute_result"
    }
   ],
   "source": [
    "type(d)"
   ]
  },
  {
   "cell_type": "code",
   "execution_count": 13,
   "id": "133a0604-ee4e-45e8-8df2-c960407990e8",
   "metadata": {},
   "outputs": [],
   "source": [
    "file = open(\"data.json\", \"w\")\n",
    "json.dump(obj, file)"
   ]
  },
  {
   "cell_type": "code",
   "execution_count": 14,
   "id": "344d3e9e-f6ea-4814-9b00-09aea6c32f51",
   "metadata": {},
   "outputs": [],
   "source": [
    "file.close()"
   ]
  },
  {
   "cell_type": "code",
   "execution_count": null,
   "id": "722d0be0-4f85-428f-bcc4-531fce850e45",
   "metadata": {
    "editable": true,
    "slideshow": {
     "slide_type": ""
    },
    "tags": []
   },
   "outputs": [],
   "source": []
  }
 ],
 "metadata": {
  "kernelspec": {
   "display_name": "Python [conda env:base] *",
   "language": "python",
   "name": "conda-base-py"
  },
  "language_info": {
   "codemirror_mode": {
    "name": "ipython",
    "version": 3
   },
   "file_extension": ".py",
   "mimetype": "text/x-python",
   "name": "python",
   "nbconvert_exporter": "python",
   "pygments_lexer": "ipython3",
   "version": "3.12.7"
  }
 },
 "nbformat": 4,
 "nbformat_minor": 5
}
