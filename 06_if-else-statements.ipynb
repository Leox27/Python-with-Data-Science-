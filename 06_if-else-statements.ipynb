{
 "cells": [
  {
   "cell_type": "code",
   "execution_count": 4,
   "id": "19e88010-e8f7-43f7-86fe-d7ca382f33a7",
   "metadata": {},
   "outputs": [],
   "source": [
    "a = 200"
   ]
  },
  {
   "cell_type": "code",
   "execution_count": 6,
   "id": "de66f3c5-01b6-41a3-8365-312bc411bea7",
   "metadata": {},
   "outputs": [
    {
     "name": "stdout",
     "output_type": "stream",
     "text": [
      "Greater\n"
     ]
    }
   ],
   "source": [
    "if(a>100):\n",
    "    print(\"Greater\")\n",
    "else:\n",
    "    print(\"Smaller\")"
   ]
  },
  {
   "cell_type": "code",
   "execution_count": 7,
   "id": "36131bbf-0faf-4d66-b8d5-5b155bf12158",
   "metadata": {},
   "outputs": [
    {
     "name": "stdout",
     "output_type": "stream",
     "text": [
      "a is greater thn 30\n"
     ]
    }
   ],
   "source": [
    "a = 34\n",
    "if a>40:\n",
    "    print(\"A is greater thsn 40\")\n",
    "elif a>30:\n",
    "    print(\"a is greater thn 30\")\n",
    "elif a>20:\n",
    "    print(\"a is greater than 20\")\n",
    "else:\n",
    "    print(\"a is smal\")"
   ]
  },
  {
   "cell_type": "code",
   "execution_count": 8,
   "id": "f23fdcee-cf95-4f09-86ac-189fd9c20c5b",
   "metadata": {},
   "outputs": [
    {
     "name": "stdout",
     "output_type": "stream",
     "text": [
      "you are senior citizen\n"
     ]
    }
   ],
   "source": [
    "age = 25\n",
    "if age<=18:\n",
    "    print(\"You are Minor\")\n",
    "elif age>65:\n",
    "    print(\"You are Adult\")\n",
    "else:\n",
    "    print(\"you are senior citizen\")"
   ]
  },
  {
   "cell_type": "code",
   "execution_count": 9,
   "id": "7058d102-2566-4f90-a044-2fc8ae9d6900",
   "metadata": {},
   "outputs": [],
   "source": [
    "# def function"
   ]
  },
  {
   "cell_type": "code",
   "execution_count": 11,
   "id": "032daa27-1aa3-48b0-80b4-7e12df1dd7e7",
   "metadata": {},
   "outputs": [
    {
     "data": {
      "text/plain": [
       "4.0"
      ]
     },
     "execution_count": 11,
     "metadata": {},
     "output_type": "execute_result"
    }
   ],
   "source": [
    "def avg(a, b=4):\n",
    "    return (a+b)/2\n",
    "\n",
    "avg(3, 5)"
   ]
  },
  {
   "cell_type": "code",
   "execution_count": 13,
   "id": "5919822e-e6a8-4e3c-bad9-797185c4d0a9",
   "metadata": {},
   "outputs": [
    {
     "data": {
      "text/plain": [
       "3.5"
      ]
     },
     "execution_count": 13,
     "metadata": {},
     "output_type": "execute_result"
    }
   ],
   "source": [
    "avg(3) # Will use the default argument"
   ]
  },
  {
   "cell_type": "code",
   "execution_count": null,
   "id": "1e731ae5-4798-45c2-b66a-b54da5f2b29b",
   "metadata": {},
   "outputs": [],
   "source": []
  }
 ],
 "metadata": {
  "kernelspec": {
   "display_name": "Python [conda env:base] *",
   "language": "python",
   "name": "conda-base-py"
  },
  "language_info": {
   "codemirror_mode": {
    "name": "ipython",
    "version": 3
   },
   "file_extension": ".py",
   "mimetype": "text/x-python",
   "name": "python",
   "nbconvert_exporter": "python",
   "pygments_lexer": "ipython3",
   "version": "3.12.7"
  }
 },
 "nbformat": 4,
 "nbformat_minor": 5
}
