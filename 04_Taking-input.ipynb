{
 "cells": [
  {
   "cell_type": "code",
   "execution_count": 2,
   "id": "30d19c1f-25db-46da-b353-596ffb46e7d6",
   "metadata": {},
   "outputs": [
    {
     "name": "stdin",
     "output_type": "stream",
     "text": [
      "Enter the nnumber:  34\n"
     ]
    }
   ],
   "source": [
    "a = int(input(\"Enter the nnumber: \"))"
   ]
  },
  {
   "cell_type": "code",
   "execution_count": 3,
   "id": "b7ee68e4-8294-46d9-aad0-6b57a8cf5423",
   "metadata": {},
   "outputs": [
    {
     "name": "stdin",
     "output_type": "stream",
     "text": [
      "Enter tha value of b:  10\n"
     ]
    }
   ],
   "source": [
    "b =input(\"Enter tha value of b: \")\n"
   ]
  },
  {
   "cell_type": "code",
   "execution_count": 4,
   "id": "c3278984-2f8e-4059-b6b0-36d9cecb1360",
   "metadata": {},
   "outputs": [
    {
     "name": "stdin",
     "output_type": "stream",
     "text": [
      "Enter the value od c:  27\n"
     ]
    }
   ],
   "source": [
    "c = input(\"Enter the value od c: \")"
   ]
  },
  {
   "cell_type": "code",
   "execution_count": 6,
   "id": "37c0a04b-2c75-488f-8d5a-c9e96ed881e1",
   "metadata": {},
   "outputs": [
    {
     "data": {
      "text/plain": [
       "'1027'"
      ]
     },
     "execution_count": 6,
     "metadata": {},
     "output_type": "execute_result"
    }
   ],
   "source": [
    "b+c # It gives the concatenation"
   ]
  },
  {
   "cell_type": "code",
   "execution_count": 7,
   "id": "f8788ad2-03dc-4557-8fc6-cba374547295",
   "metadata": {},
   "outputs": [
    {
     "data": {
      "text/plain": [
       "37"
      ]
     },
     "execution_count": 7,
     "metadata": {},
     "output_type": "execute_result"
    }
   ],
   "source": [
    "int(b) + int(c)"
   ]
  },
  {
   "cell_type": "code",
   "execution_count": null,
   "id": "d98a707b-e52e-4d7f-b63c-0aab8597d648",
   "metadata": {},
   "outputs": [],
   "source": []
  }
 ],
 "metadata": {
  "kernelspec": {
   "display_name": "Python [conda env:base] *",
   "language": "python",
   "name": "conda-base-py"
  },
  "language_info": {
   "codemirror_mode": {
    "name": "ipython",
    "version": 3
   },
   "file_extension": ".py",
   "mimetype": "text/x-python",
   "name": "python",
   "nbconvert_exporter": "python",
   "pygments_lexer": "ipython3",
   "version": "3.12.7"
  }
 },
 "nbformat": 4,
 "nbformat_minor": 5
}
