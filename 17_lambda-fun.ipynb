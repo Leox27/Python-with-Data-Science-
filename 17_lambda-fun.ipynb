{
 "cells": [
  {
   "cell_type": "code",
   "execution_count": 1,
   "id": "cf14225a-5156-4a87-874c-ba8887d36832",
   "metadata": {},
   "outputs": [],
   "source": [
    "cube = lambda x:x*x*x\n"
   ]
  },
  {
   "cell_type": "code",
   "execution_count": 2,
   "id": "2893092b-dd78-4fe5-8d07-66fd517a087d",
   "metadata": {},
   "outputs": [
    {
     "data": {
      "text/plain": [
       "64"
      ]
     },
     "execution_count": 2,
     "metadata": {},
     "output_type": "execute_result"
    }
   ],
   "source": [
    "cube(4)"
   ]
  },
  {
   "cell_type": "code",
   "execution_count": 3,
   "id": "b1f2a44d-c7be-478f-80a7-f333c84595bb",
   "metadata": {},
   "outputs": [],
   "source": [
    "sum = lambda a,b:a+b"
   ]
  },
  {
   "cell_type": "code",
   "execution_count": 4,
   "id": "fe3a8743-a52c-4f09-bd37-0d6786d8c974",
   "metadata": {},
   "outputs": [
    {
     "data": {
      "text/plain": [
       "11"
      ]
     },
     "execution_count": 4,
     "metadata": {},
     "output_type": "execute_result"
    }
   ],
   "source": [
    "sum(4, 7)"
   ]
  },
  {
   "cell_type": "code",
   "execution_count": null,
   "id": "44a25bcd-ede9-4c11-811f-4ea0087b7450",
   "metadata": {},
   "outputs": [],
   "source": []
  }
 ],
 "metadata": {
  "kernelspec": {
   "display_name": "Python [conda env:base] *",
   "language": "python",
   "name": "conda-base-py"
  },
  "language_info": {
   "codemirror_mode": {
    "name": "ipython",
    "version": 3
   },
   "file_extension": ".py",
   "mimetype": "text/x-python",
   "name": "python",
   "nbconvert_exporter": "python",
   "pygments_lexer": "ipython3",
   "version": "3.12.7"
  }
 },
 "nbformat": 4,
 "nbformat_minor": 5
}
