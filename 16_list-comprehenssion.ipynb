{
 "cells": [
  {
   "cell_type": "code",
   "execution_count": 1,
   "id": "edbc23d5-ec86-46d0-9faa-4852fc5d5096",
   "metadata": {},
   "outputs": [],
   "source": [
    "table = []\n"
   ]
  },
  {
   "cell_type": "code",
   "execution_count": 4,
   "id": "85bcc2ec-d4dd-49fa-8692-9f3948681be1",
   "metadata": {},
   "outputs": [
    {
     "name": "stdout",
     "output_type": "stream",
     "text": [
      "2 X 1 = 2\n",
      "2 X 2 = 4\n",
      "2 X 3 = 6\n",
      "2 X 4 = 8\n",
      "2 X 5 = 10\n",
      "2 X 6 = 12\n",
      "2 X 7 = 14\n",
      "2 X 8 = 16\n",
      "2 X 9 = 18\n",
      "2 X 10 = 20\n"
     ]
    }
   ],
   "source": [
    "for i in range(1, 11):\n",
    "    print(f\"2 X {i} = {2*i}\")"
   ]
  },
  {
   "cell_type": "code",
   "execution_count": 5,
   "id": "97ef55c8-3a26-43c6-819d-203c7ae1393e",
   "metadata": {},
   "outputs": [],
   "source": [
    "t = [i*2 for i in range(1, 11)]"
   ]
  },
  {
   "cell_type": "code",
   "execution_count": 6,
   "id": "fab164c9-1a19-4ada-be17-214400613296",
   "metadata": {},
   "outputs": [
    {
     "data": {
      "text/plain": [
       "[2, 4, 6, 8, 10, 12, 14, 16, 18, 20]"
      ]
     },
     "execution_count": 6,
     "metadata": {},
     "output_type": "execute_result"
    }
   ],
   "source": [
    "t"
   ]
  },
  {
   "cell_type": "code",
   "execution_count": 10,
   "id": "5b379aad-98da-4f8f-9d31-b6d9dd8cc0d0",
   "metadata": {},
   "outputs": [],
   "source": [
    "t = [i*2 for i in range(1, 11) if i%2 == 0]"
   ]
  },
  {
   "cell_type": "code",
   "execution_count": 11,
   "id": "99a8fc44-a13a-4bbc-b434-b7a8472437b7",
   "metadata": {},
   "outputs": [
    {
     "data": {
      "text/plain": [
       "[4, 8, 12, 16, 20]"
      ]
     },
     "execution_count": 11,
     "metadata": {},
     "output_type": "execute_result"
    }
   ],
   "source": [
    "t"
   ]
  },
  {
   "cell_type": "code",
   "execution_count": null,
   "id": "bfa08891-d540-4e8d-9ba4-507987f5ae99",
   "metadata": {},
   "outputs": [],
   "source": []
  }
 ],
 "metadata": {
  "kernelspec": {
   "display_name": "Python [conda env:base] *",
   "language": "python",
   "name": "conda-base-py"
  },
  "language_info": {
   "codemirror_mode": {
    "name": "ipython",
    "version": 3
   },
   "file_extension": ".py",
   "mimetype": "text/x-python",
   "name": "python",
   "nbconvert_exporter": "python",
   "pygments_lexer": "ipython3",
   "version": "3.12.7"
  }
 },
 "nbformat": 4,
 "nbformat_minor": 5
}
