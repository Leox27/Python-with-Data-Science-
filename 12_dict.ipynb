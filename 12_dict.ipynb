{
 "cells": [
  {
   "cell_type": "code",
   "execution_count": 1,
   "id": "7a29d49b-d419-4063-b86c-3c9586827d45",
   "metadata": {},
   "outputs": [],
   "source": [
    "dict = {}"
   ]
  },
  {
   "cell_type": "code",
   "execution_count": 2,
   "id": "36e30b97-bd2b-47ea-be7c-150e88ef772a",
   "metadata": {},
   "outputs": [
    {
     "data": {
      "text/plain": [
       "dict"
      ]
     },
     "execution_count": 2,
     "metadata": {},
     "output_type": "execute_result"
    }
   ],
   "source": [
    "type(dict)"
   ]
  },
  {
   "cell_type": "code",
   "execution_count": 3,
   "id": "4580a9da-7c5c-4127-8415-cfe4d8bda4a1",
   "metadata": {},
   "outputs": [],
   "source": [
    "student = {\"name\":\"Alice\", \"age\":21, \"grade\":\"A\"}"
   ]
  },
  {
   "cell_type": "code",
   "execution_count": 5,
   "id": "afee6b7e-eb32-4712-89de-904829d79c1f",
   "metadata": {},
   "outputs": [
    {
     "data": {
      "text/plain": [
       "'Alice'"
      ]
     },
     "execution_count": 5,
     "metadata": {},
     "output_type": "execute_result"
    }
   ],
   "source": [
    "student[\"name\"]"
   ]
  },
  {
   "cell_type": "code",
   "execution_count": 6,
   "id": "3d576d8a-3947-4775-bb9c-d1fc1aac03d2",
   "metadata": {},
   "outputs": [],
   "source": [
    "r = student.get(\"name7\")"
   ]
  },
  {
   "cell_type": "code",
   "execution_count": 7,
   "id": "bbe1fecb-c907-449a-b85a-3be1ec9c5875",
   "metadata": {},
   "outputs": [
    {
     "name": "stdout",
     "output_type": "stream",
     "text": [
      "None\n"
     ]
    }
   ],
   "source": [
    "print(r)"
   ]
  },
  {
   "cell_type": "code",
   "execution_count": 10,
   "id": "260699dc-fd57-43c5-8978-088d3e13655b",
   "metadata": {},
   "outputs": [],
   "source": [
    "student[\"class\"] = \"A\" # Add method"
   ]
  },
  {
   "cell_type": "code",
   "execution_count": 11,
   "id": "9abaf434-b407-4d9c-a17c-bafd7edfbe97",
   "metadata": {},
   "outputs": [
    {
     "data": {
      "text/plain": [
       "{'name': 'Alice', 'age': 21, 'grade': 'A', 'class': 'A'}"
      ]
     },
     "execution_count": 11,
     "metadata": {},
     "output_type": "execute_result"
    }
   ],
   "source": [
    "student"
   ]
  },
  {
   "cell_type": "code",
   "execution_count": 13,
   "id": "61bd56db-7ec5-47f1-8c7b-3fee194de65d",
   "metadata": {},
   "outputs": [
    {
     "data": {
      "text/plain": [
       "dict_keys(['name', 'age', 'grade', 'class'])"
      ]
     },
     "execution_count": 13,
     "metadata": {},
     "output_type": "execute_result"
    }
   ],
   "source": [
    "student.keys()"
   ]
  },
  {
   "cell_type": "code",
   "execution_count": 14,
   "id": "e95869d7-36d7-47b7-a636-b3e5c764347b",
   "metadata": {},
   "outputs": [
    {
     "data": {
      "text/plain": [
       "dict_values(['Alice', 21, 'A', 'A'])"
      ]
     },
     "execution_count": 14,
     "metadata": {},
     "output_type": "execute_result"
    }
   ],
   "source": [
    "student.values()"
   ]
  },
  {
   "cell_type": "code",
   "execution_count": 15,
   "id": "1959ea41-80aa-48b7-9b04-15a08f8e136f",
   "metadata": {},
   "outputs": [
    {
     "data": {
      "text/plain": [
       "dict_items([('name', 'Alice'), ('age', 21), ('grade', 'A'), ('class', 'A')])"
      ]
     },
     "execution_count": 15,
     "metadata": {},
     "output_type": "execute_result"
    }
   ],
   "source": [
    "student.items()"
   ]
  },
  {
   "cell_type": "code",
   "execution_count": 17,
   "id": "c96cc3b0-1f33-4671-abcb-06794900af19",
   "metadata": {},
   "outputs": [],
   "source": [
    "student.update({\"name\":\"Mayur\"})"
   ]
  },
  {
   "cell_type": "code",
   "execution_count": 18,
   "id": "762404b9-ffb3-41d4-a1fc-c5f56595e085",
   "metadata": {},
   "outputs": [
    {
     "data": {
      "text/plain": [
       "{'name': 'Mayur', 'age': 21, 'grade': 'A', 'class': 'A'}"
      ]
     },
     "execution_count": 18,
     "metadata": {},
     "output_type": "execute_result"
    }
   ],
   "source": [
    "student"
   ]
  },
  {
   "cell_type": "code",
   "execution_count": 19,
   "id": "c75b5d6a-2082-46fc-a9d3-b22581925b55",
   "metadata": {},
   "outputs": [],
   "source": [
    "student.update({\"name\":\"Suraj\", \"age\":22, \"class\":\"B\"})"
   ]
  },
  {
   "cell_type": "code",
   "execution_count": 20,
   "id": "59985496-0587-42d0-a6e9-240949294247",
   "metadata": {},
   "outputs": [
    {
     "data": {
      "text/plain": [
       "{'name': 'Suraj', 'age': 22, 'grade': 'A', 'class': 'B'}"
      ]
     },
     "execution_count": 20,
     "metadata": {},
     "output_type": "execute_result"
    }
   ],
   "source": [
    "student"
   ]
  },
  {
   "cell_type": "code",
   "execution_count": null,
   "id": "a6ce74c5-474c-40fe-b8dc-35530fb83339",
   "metadata": {},
   "outputs": [],
   "source": []
  }
 ],
 "metadata": {
  "kernelspec": {
   "display_name": "Python [conda env:base] *",
   "language": "python",
   "name": "conda-base-py"
  },
  "language_info": {
   "codemirror_mode": {
    "name": "ipython",
    "version": 3
   },
   "file_extension": ".py",
   "mimetype": "text/x-python",
   "name": "python",
   "nbconvert_exporter": "python",
   "pygments_lexer": "ipython3",
   "version": "3.12.7"
  }
 },
 "nbformat": 4,
 "nbformat_minor": 5
}
