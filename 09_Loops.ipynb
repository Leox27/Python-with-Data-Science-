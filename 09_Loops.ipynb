{
 "cells": [
  {
   "cell_type": "code",
   "execution_count": 1,
   "id": "cd9de728-6991-45e7-96de-2c40eb8b323e",
   "metadata": {},
   "outputs": [
    {
     "name": "stdout",
     "output_type": "stream",
     "text": [
      "Mango\n",
      "Apple\n",
      "Orange\n"
     ]
    }
   ],
   "source": [
    "fruits = [\"Mango\", \"Apple\", \"Orange\"]\n",
    "for fruit in fruits:\n",
    "    print(fruit)"
   ]
  },
  {
   "cell_type": "code",
   "execution_count": 2,
   "id": "b6da84d1-8330-4873-b10a-2e31aa12880f",
   "metadata": {},
   "outputs": [
    {
     "name": "stdout",
     "output_type": "stream",
     "text": [
      "Apple\n"
     ]
    }
   ],
   "source": [
    "print(fruits[1])"
   ]
  },
  {
   "cell_type": "code",
   "execution_count": 7,
   "id": "64fe21f8-d3bb-4da1-b39d-33ca7b0ee2a6",
   "metadata": {},
   "outputs": [],
   "source": [
    "# Using the range() method"
   ]
  },
  {
   "cell_type": "code",
   "execution_count": 3,
   "id": "5231d2ce-16e1-4b2c-a841-8f1c64ec43a5",
   "metadata": {},
   "outputs": [
    {
     "name": "stdout",
     "output_type": "stream",
     "text": [
      "0\n",
      "1\n",
      "2\n",
      "3\n",
      "4\n",
      "5\n",
      "6\n",
      "7\n",
      "8\n",
      "9\n",
      "10\n"
     ]
    }
   ],
   "source": [
    "for i in range(11):\n",
    "    print(i)"
   ]
  },
  {
   "cell_type": "code",
   "execution_count": 6,
   "id": "03daff48-b796-4159-a357-1f3d82b1812f",
   "metadata": {},
   "outputs": [
    {
     "name": "stdout",
     "output_type": "stream",
     "text": [
      "1\n",
      "2\n",
      "3\n",
      "4\n",
      "5\n",
      "6\n",
      "7\n",
      "8\n",
      "9\n",
      "10\n"
     ]
    }
   ],
   "source": [
    "for i in range(1, 11):\n",
    "    print(i)"
   ]
  },
  {
   "cell_type": "code",
   "execution_count": 8,
   "id": "2a34bffc-bd77-4fed-9935-497a93e9ad32",
   "metadata": {},
   "outputs": [],
   "source": [
    "# while loop"
   ]
  },
  {
   "cell_type": "code",
   "execution_count": 10,
   "id": "66d3b514-c320-4738-b8e7-c15d17742b3a",
   "metadata": {},
   "outputs": [
    {
     "name": "stdout",
     "output_type": "stream",
     "text": [
      "0\n",
      "1\n",
      "2\n",
      "3\n",
      "4\n",
      "5\n"
     ]
    }
   ],
   "source": [
    "count = 0\n",
    "while(count<=5):\n",
    "    print(count)\n",
    "    count += 1"
   ]
  },
  {
   "cell_type": "code",
   "execution_count": 11,
   "id": "4d9ff6df-5900-483e-91df-d22f0ce5afda",
   "metadata": {},
   "outputs": [],
   "source": [
    "# Loop control statements"
   ]
  },
  {
   "cell_type": "code",
   "execution_count": 14,
   "id": "9fd06483-6d30-423a-8283-2c7ed32f79f8",
   "metadata": {},
   "outputs": [
    {
     "name": "stdout",
     "output_type": "stream",
     "text": [
      "hello world\n"
     ]
    }
   ],
   "source": [
    "for i in range(0, 5): # pass statements\n",
    "    pass\n",
    "\n",
    "print(\"hello world\")"
   ]
  },
  {
   "cell_type": "code",
   "execution_count": 27,
   "id": "4ddb2fa8-378c-4069-a5e0-fd1fc3acb3d6",
   "metadata": {},
   "outputs": [
    {
     "name": "stdout",
     "output_type": "stream",
     "text": [
      "Mango\n",
      "Apple\n"
     ]
    }
   ],
   "source": [
    "fruits = [\"Mango\", \"Apple\", \"Orange\"]\n",
    "for fruit in fruits:\n",
    "    if(fruit == \"Orange\"):\n",
    "        break \n",
    "    print(fruit)"
   ]
  },
  {
   "cell_type": "code",
   "execution_count": 31,
   "id": "d6b43ff6-2607-44c4-b5d6-b769da573640",
   "metadata": {},
   "outputs": [
    {
     "name": "stdout",
     "output_type": "stream",
     "text": [
      "Mango\n",
      "Orange\n"
     ]
    }
   ],
   "source": [
    "fruits = [\"Mango\", \"Apple\", \"Orange\"]\n",
    "for fruit in fruits:\n",
    "    if(fruit == \"Apple\"):\n",
    "        continue # skip\n",
    "    print(fruit)"
   ]
  },
  {
   "cell_type": "code",
   "execution_count": null,
   "id": "427a67f4-02d2-4deb-8607-f753a31a559a",
   "metadata": {},
   "outputs": [],
   "source": []
  }
 ],
 "metadata": {
  "kernelspec": {
   "display_name": "Python [conda env:base] *",
   "language": "python",
   "name": "conda-base-py"
  },
  "language_info": {
   "codemirror_mode": {
    "name": "ipython",
    "version": 3
   },
   "file_extension": ".py",
   "mimetype": "text/x-python",
   "name": "python",
   "nbconvert_exporter": "python",
   "pygments_lexer": "ipython3",
   "version": "3.12.7"
  }
 },
 "nbformat": 4,
 "nbformat_minor": 5
}
