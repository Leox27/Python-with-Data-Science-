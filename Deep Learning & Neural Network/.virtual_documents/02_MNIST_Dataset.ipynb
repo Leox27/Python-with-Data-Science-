import tensorflow as tf
import matplotlib.pyplot as plt


(x_train, y_train), (x_test, y_test) = tf.keras.datasets.mnist.load_data()


print(f"Training dataset is {x_train.shape}")


print(f"Testing dataset is {x_test.shape}")


plt.figure(figsize=(10, 2))

for i in range(10):
    plt.subplot(1, 10, i+1)
    plt.imshow(x_train[i], cmap='viridis') 
    plt.axis('off')
    plt.title(str(y_train[i]))
plt.tight_layout()
plt.show()





import numpy as np

indices = np.random.choice(len(x_train), 50, replace=False)
plt.figure(figsize=(10, 5))

for i, idx in enumerate(indices):
    plt.subplot(5, 10, i+1)
    plt.imshow(x_train[idx], cmap='gray')
    plt.axis('off')
    plt.title(str(y_train[idx]), fontsize=8)

plt.tight_layout()
plt.show()






plt.figure(figsize=(10, 5))

for digit in range(10):
    indices = np.where(y_train == digit)[0][:5]  # take first 5 samples of each digit
    for j, idx in enumerate(indices):
        plt.subplot(5, 10, digit*5 + j + 1)
        plt.imshow(x_train[idx], cmap='gray')
        plt.axis('off')
        if j == 0:
            plt.ylabel(str(digit), fontsize=12)  # label each row with the digit

plt.tight_layout()
plt.show()






### Convolutional Neural Network (CNN)

from tensorflow.keras.models import Sequential

from tensorflow.keras.layers import Conv2D, MaxPooling2D, Flatten, Dense
from tensorflow.keras.utils import to_categorical

# Preprocess
x_train = x_train.reshape(-1, 28, 28, 1).astype("float32") / 255.0
x_test = x_test.reshape(-1, 28, 28, 1).astype("float32") / 255.0

y_train_cat = to_categorical(y_train, 10)
y_test_cat = to_categorical(y_test, 10)

# Define simple CNN
model = Sequential([
    Conv2D(32, (3,3), activation='relu', input_shape=(28,28,1)),
    MaxPooling2D(2,2),
    Flatten(),
    Dense(64, activation='relu'),
    Dense(10, activation='softmax')]
                  )

model.compile(optimizer='adam', 
              loss='categorical_crossentropy', 
              metrics=['accuracy']
             )

model.fit(x_train, y_train_cat, 
          epochs=3, 
          batch_size=64, 
          validation_split=0.1
         )



model.compile(optimizer='adam', 
              loss='categorical_crossentropy', 
              metrics=['accuracy']
             )

model.fit(x_test, y_test_cat, 
          epochs=3, 
          batch_size=64, 
          validation_split=0.1
         )



